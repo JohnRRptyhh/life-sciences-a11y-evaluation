{
 "cells": [
  {
   "cell_type": "code",
   "execution_count": null,
   "id": "da2fab9e-c072-4755-a9c9-328964d2d524",
   "metadata": {},
   "outputs": [],
   "source": [
    "import pandas as pd\n",
    "import altair as alt\n",
    "from theme import apply_theme\n",
    "alt.data_transformers.disable_max_rows(); # Allow using rows more than 5000"
   ]
  },
  {
   "cell_type": "code",
   "execution_count": null,
   "id": "e66b6244-3734-4461-8539-bf84a0124008",
   "metadata": {},
   "outputs": [],
   "source": [
    "colors = [\n",
    "    '#E69F00',\n",
    "    '#56B4E9',\n",
    "    '#009E73',\n",
    "    '#F0E442',\n",
    "    '#0072B2',\n",
    "    '#D55E00',\n",
    "    '#CC79A7',\n",
    "    '#000000'\n",
    "]"
   ]
  },
  {
   "cell_type": "markdown",
   "id": "e379a784-7964-4c47-bbee-0bf41b5c2436",
   "metadata": {},
   "source": [
    "# Load Processed Data"
   ]
  },
  {
   "cell_type": "code",
   "execution_count": null,
   "id": "62bb8e4c-110e-49c3-908d-5ca16c4cc574",
   "metadata": {},
   "outputs": [],
   "source": [
    "# This file can be found at \n",
    "# https://github.com/sehilyi/bio-accessibility-evaluation/blob/master/output/a11y-reports-with-metadata.json\n",
    "\n",
    "# df = pd.read_json('https://gist.githubusercontent.com/sehilyi/17867991e456f4aa16e99d0c2af7e5b2/raw/78056d2da8a51ad6bd26968e4f585af6a01ad025/a11y-reports-with-metadata.json')\n",
    "# or \n",
    "df = pd.read_json('../output/a11y-reports-with-metadata.json')\n",
    "\n",
    "df.tail()"
   ]
  },
  {
   "cell_type": "code",
   "execution_count": null,
   "id": "d377db5b-e9a3-4016-aeda-0b01ac0eb51d",
   "metadata": {},
   "outputs": [],
   "source": [
    "df.columns"
   ]
  },
  {
   "cell_type": "markdown",
   "id": "a25e5a50-d3a5-4b0e-81ab-5653f1f0c799",
   "metadata": {},
   "source": [
    "# Visualize It!"
   ]
  },
  {
   "cell_type": "code",
   "execution_count": null,
   "id": "93b9532c-2a9f-48ac-97a9-28e57f6d3f8c",
   "metadata": {},
   "outputs": [],
   "source": [
    "# Example: Error Count by Country and Impact\n",
    "top_countries = df.groupby('country').count().sort_values(by='url', ascending=False)\n",
    "top_countries = top_countries[0:7].reset_index().country.tolist()\n",
    "top_countries\n",
    "\n",
    "filtered = df[(df.country.isin(top_countries)) & (df.type == 'error')]\n",
    "\n",
    "plot = alt.Chart(filtered).mark_bar(\n",
    "    filled=True,\n",
    "#     opacity=0.1,\n",
    "#     size=150\n",
    ").encode(\n",
    "    x=alt.X('country:N', sort='-y', title='Citation Count'),\n",
    "    y=alt.Y('mean(count):Q', title='Error Count', scale=alt.Scale(type='linear')),\n",
    "    color=alt.Color('country:N', title='Country', scale=alt.Scale(range=colors))\n",
    ").properties(\n",
    "    width=700\n",
    ")\n",
    "\n",
    "plot = apply_theme(plot)\n",
    "plot"
   ]
  },
  {
   "cell_type": "code",
   "execution_count": null,
   "id": "0a9dd3f1-7c2e-4a8c-a345-179a981007c1",
   "metadata": {},
   "outputs": [],
   "source": [
    "index_columns = df.columns.tolist()\n",
    "index_columns.remove('name')\n",
    "index_columns.remove('count')\n",
    "\n",
    "# https://stackoverflow.com/a/44350473\n",
    "lambda x: str([x.year,x.month])\n",
    "\n",
    "df.groupby(index_columns).sum()"
   ]
  },
  {
   "cell_type": "code",
   "execution_count": null,
   "id": "cb5d08df-d66b-4a12-9978-56d80a6f520d",
   "metadata": {},
   "outputs": [],
   "source": []
  }
 ],
 "metadata": {
  "kernelspec": {
   "display_name": "Python 3 (ipykernel)",
   "language": "python",
   "name": "python3"
  },
  "language_info": {
   "codemirror_mode": {
    "name": "ipython",
    "version": 3
   },
   "file_extension": ".py",
   "mimetype": "text/x-python",
   "name": "python",
   "nbconvert_exporter": "python",
   "pygments_lexer": "ipython3",
   "version": "3.9.1"
  }
 },
 "nbformat": 4,
 "nbformat_minor": 5
}
