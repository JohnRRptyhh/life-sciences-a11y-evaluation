{
 "cells": [
  {
   "cell_type": "code",
   "execution_count": null,
   "id": "c2547611-68d6-4b45-8f0b-5b09cce342c3",
   "metadata": {},
   "outputs": [],
   "source": [
    "%load_ext autoreload\n",
    "%autoreload 2\n",
    "%aimport theme\n",
    "import pandas as pd\n",
    "import altair as alt\n",
    "import json\n",
    "from theme import apply_theme\n",
    "alt.data_transformers.disable_max_rows(); # Allow using rows more than 5000"
   ]
  },
  {
   "attachments": {},
   "cell_type": "markdown",
   "id": "6ca26381-ae7d-449d-acb4-960c1934c370",
   "metadata": {},
   "source": [
    "## Load Evaluation Data"
   ]
  },
  {
   "cell_type": "code",
   "execution_count": null,
   "id": "4147f01c-4829-42c1-90fa-74d19bbfacbb",
   "metadata": {},
   "outputs": [],
   "source": [
    "jdf = pd.read_json('../output/journals-merged.json')\n",
    "print(jdf.columns)\n",
    "jdf.head()"
   ]
  },
  {
   "cell_type": "code",
   "execution_count": null,
   "id": "2228cb7a-9002-4472-b777-617ecfa7d392",
   "metadata": {},
   "outputs": [],
   "source": [
    "pdf = pd.read_json('../output/portals-merged.json')\n",
    "print(pdf.columns)\n",
    "pdf.head()"
   ]
  },
  {
   "cell_type": "code",
   "execution_count": null,
   "id": "e0ae251f-3799-45ca-8791-1c385279b1f0",
   "metadata": {},
   "outputs": [],
   "source": [
    "vdf = pd.read_json('../output/visualizations-merged.json')\n",
    "print(vdf.columns)\n",
    "vdf.head()"
   ]
  },
  {
   "cell_type": "code",
   "execution_count": null,
   "id": "01f72bef-2cb6-4e37-8252-3210728892b6",
   "metadata": {},
   "outputs": [],
   "source": [
    "alt.Chart(\n",
    "    jdf[jdf.issueType == 'alert']\n",
    ").mark_bar().encode(\n",
    "    x=alt.X('publisher', sort='-y'),\n",
    "    y=alt.Y('sum(issueCount)')\n",
    ")"
   ]
  },
  {
   "attachments": {},
   "cell_type": "markdown",
   "id": "e663b48f-6cea-4c56-b9b3-e6f5f0cc4ea5",
   "metadata": {},
   "source": [
    "## Percent of Resources with Accessibility Issues"
   ]
  },
  {
   "cell_type": "code",
   "execution_count": null,
   "id": "8c39ff38-2a06-4785-a502-63be8f593acd",
   "metadata": {},
   "outputs": [],
   "source": [
    "mapping = [\n",
    "    ('Journals', jdf, '#CC7DAA'),\n",
    "    ('Data Portals', pdf, '#409F7A'),\n",
    "    ('Visualizations', vdf, '#3275B4')\n",
    "]\n",
    "\n",
    "charts = []\n",
    "for (title, data, color) in mapping:\n",
    "\n",
    "    N = len(data.baId.unique().tolist())\n",
    "\n",
    "    filtered = data[\n",
    "        (data.issueType == 'error')\n",
    "        | (data.issueType == 'contrast')\n",
    "        # | (data.issueType == 'alert')\n",
    "    ].copy()\n",
    "\n",
    "    grouped = filtered.groupby(by='baId').sum().reset_index()\n",
    "    grouped['hasIssues'] = grouped.issueCount.apply(lambda x: x >= 1)\n",
    "    grouped = grouped.groupby(by=['hasIssues']).count().reset_index()\n",
    "    grouped['percentHasIssues'] = grouped.issueCount / N\n",
    "    grouped\n",
    "\n",
    "    chart = alt.Chart(grouped).mark_bar().encode(\n",
    "        x=alt.X('hasIssues:N'),\n",
    "        y=alt.Y('percentHasIssues:Q', title=None, axis=alt.Axis(format='%', labels=False if title != 'Journals' else True), scale=alt.Scale(domain=[0, 1])),\n",
    "        color=alt.Color('hasIssues:N', legend=None, scale=alt.Scale(range=['#A0A0A0', color])),\n",
    "        tooltip=['percentHasIssues']\n",
    "    )\n",
    "\n",
    "    chart = chart.properties(\n",
    "        title={\n",
    "            \"text\": f'{title}',\n",
    "            \"subtitle\": [\n",
    "                f'N={N}',\n",
    "                # '\\\"Error\\\" and \\\"Contrast\\\" issues are counted'\n",
    "            ],\n",
    "            # \"subtitleColor\": 'gray'\n",
    "        },\n",
    "        width=300\n",
    "    )\n",
    "    charts.append(chart)\n",
    "apply_theme(alt.hconcat(*charts, spacing=10).resolve_scale(color='independent', y='shared')).properties(\n",
    "    title='Percent of Resources with Accessibility Issues (\\\"Error\\\" & \\\"Contrast\\\")'\n",
    ")"
   ]
  },
  {
   "attachments": {},
   "cell_type": "markdown",
   "id": "46bbeca0",
   "metadata": {},
   "source": [
    "## Outstanding Accessibility Issues"
   ]
  },
  {
   "cell_type": "code",
   "execution_count": null,
   "id": "eac5b1b6",
   "metadata": {},
   "outputs": [],
   "source": [
    "mapping = [\n",
    "    ('Journals', jdf, '#CC7DAA'),\n",
    "    ('Data Portals', pdf, '#409F7A'),\n",
    "    ('Visualizations', vdf, '#3275B4')\n",
    "]\n",
    "\n",
    "charts = []\n",
    "for (title, data, color) in mapping:\n",
    "    df = data.copy()\n",
    "    df['issueLongDescription'] = df['issueDesc'] + ' (' + df['issueId'] + ')'\n",
    "    df = df[df.issueType != 'alert']\n",
    "    df = df.groupby(by='issueLongDescription').mean().reset_index()\n",
    "    sort = df.sort_values(by='issueCount', ascending=False).issueLongDescription.unique().tolist()\n",
    "    \n",
    "    chart = alt.Chart(df).mark_bar().encode(\n",
    "        y=alt.Y('issueLongDescription', sort=sort, title=None, axis=alt.Axis(labels=False if title != 'Journals' else True, grid=True)),\n",
    "        x=alt.X('mean(issueCount)'),\n",
    "        color=alt.Color('issueLongDescription', scale=alt.Scale(range=[color]), legend=None)\n",
    "    )\n",
    "    charts.append(chart.properties(title=f'{title}'))\n",
    "apply_theme(alt.hconcat(*charts, spacing=10).resolve_scale(color='independent', y='shared')).properties(\n",
    "    title='Average Number of Accessibility Issues (\\\"Error\\\" & \\\"Contrast\\\")'\n",
    ")"
   ]
  },
  {
   "attachments": {},
   "cell_type": "markdown",
   "id": "89e4c32d",
   "metadata": {},
   "source": [
    "## Accessibility by Data Portal Found Year\n",
    "Note: we do not have a time variable to track the accessibility over time"
   ]
  },
  {
   "cell_type": "code",
   "execution_count": null,
   "id": "c1f57d6a",
   "metadata": {},
   "outputs": [],
   "source": [
    "df = pdf.copy()\n",
    "df = df[(df.issueType == 'error') | (df.issueType == 'contrast')]\n",
    "df = df[df.foundedYear != '']\n",
    "df = df[df.foundedYear.astype('int') >= 1998]\n",
    "\n",
    "grouped = df.groupby(by=['baId', 'foundedYear']).agg({'issueCount': 'sum', 'dbId': 'count'}).reset_index()\n",
    "\n",
    "chart = alt.Chart(grouped).mark_point(\n",
    "    opacity=1,\n",
    "    filled=True\n",
    ").encode(\n",
    "    x=alt.X('foundedYear:T'),\n",
    "    y=alt.Y('mean(issueCount)'),\n",
    "    size=alt.Size('count(baId):Q'),\n",
    "    # color=alt.Color('baId', scale=alt.Scale(), legend=None),\n",
    "    tooltip=['count(baId)']\n",
    ")\n",
    "chart.properties(title='Accessibility of Journals by Founded Year')"
   ]
  },
  {
   "cell_type": "code",
   "execution_count": null,
   "id": "f1fb9bf6",
   "metadata": {},
   "outputs": [],
   "source": [
    "df = pdf.copy()\n",
    "df = df[(df.issueType == 'error') | (df.issueType == 'contrast')]\n",
    "df = df[df.foundedYear != '']\n",
    "# df = df[df.foundedYear.astype('int') >= 1998]\n",
    "\n",
    "grouped = df.groupby(by=['baId', 'foundedYear']).agg({'issueCount': 'sum'}).reset_index()\n",
    "grouped['hasIssues'] = grouped.issueCount.apply(lambda x: x > 0)\n",
    "grouped = grouped.groupby(by=['hasIssues', 'foundedYear']).count().reset_index()\n",
    "\n",
    "tdf = grouped.groupby(by='foundedYear').agg({'issueCount': 'sum'}).rename(columns={'issueCount': 'totalIssueCount'})\n",
    "grouped = grouped.set_index('foundedYear')\n",
    "grouped = grouped.join(tdf).reset_index()\n",
    "grouped['issuePercent'] = grouped.issueCount / grouped.totalIssueCount\n",
    "grouped = grouped[grouped['hasIssues'] == False]\n",
    "MAX_COUNT_PER_YEAR = grouped['totalIssueCount'].max()\n",
    "\n",
    "chart = alt.Chart(grouped).mark_bar(\n",
    "    opacity=1,\n",
    "    filled=True,\n",
    "    # size=20\n",
    ").encode(\n",
    "    x=alt.X('foundedYear'),\n",
    "    y=alt.Y('issuePercent', axis=alt.Axis(format='%'), title='Percent of Resources w/o Issues'),\n",
    "    # color=alt.value('#E6A01B')\n",
    "    # color=alt.Color('hasIssues', scale=alt.Scale(domain=[False, True], range=['blue', 'red']), legend=None),\n",
    "    color=alt.Color('totalIssueCount', scale=alt.Scale(scheme='bluegreen', domain=[0, MAX_COUNT_PER_YEAR]), legend=alt.Legend(gradientLength=120, gradientThickness=20, titlePadding=20), title='# of Resources'),\n",
    "    tooltip=['totalIssueCount']\n",
    ").properties(\n",
    "    width=800\n",
    ")\n",
    "apply_theme(chart.properties(title='The Percent of Data Portals without Accessibility Issues by Founded Year'), x_label_angle=310)\n",
    "# grouped"
   ]
  },
  {
   "cell_type": "markdown",
   "id": "43e82b29-97e4-4e78-a62d-1cbc088a203d",
   "metadata": {},
   "source": [
    "## Accessibility vs. Impact"
   ]
  },
  {
   "cell_type": "code",
   "execution_count": null,
   "id": "453aa5c6-f027-4804-bf6a-47b3823fd655",
   "metadata": {},
   "outputs": [],
   "source": [
    "highlight = True\n",
    "mapping = [\n",
    "    ('Journals', jdf, 'hIndex', 'issueCount', 'title', '#CC7DAA'),\n",
    "    ('Data Portals', pdf, 'citation', 'issueCount', 'shortName', '#409F7A'),\n",
    "    ('Visualizations', vdf, 'githubStars', 'issueCount', 'name', '#3275B4')\n",
    "]\n",
    "\n",
    "charts = []\n",
    "for (title, data, impactField, issueField, nameField, color) in mapping:\n",
    "\n",
    "    filtered = data[((data.issueType == 'error') | (data.issueType == 'contrast'))].copy()\n",
    "    # filtered = data[(data[impactField] >= 1) & (data[issueField] >= 1)]\n",
    "    N = len(data.baId.unique().tolist())\n",
    "        \n",
    "    \"\"\"\n",
    "    Do we want to highlight certain groups of interest?\n",
    "    \"\"\"\n",
    "    filtered['highlight'] = True\n",
    "    if highlight:\n",
    "        if title == 'Journals':\n",
    "            filtered['highlight'] = filtered.publisher.apply(lambda x: x == 'Nature Publishing Group')\n",
    "        elif title == 'Data Portals':\n",
    "            filtered['highlight'] = filtered.hostInstitution.apply(lambda x: x == 'National Cancer Institute')\n",
    "        else:\n",
    "            continue\n",
    "    \n",
    "    chart = alt.Chart(\n",
    "        filtered\n",
    "    ).mark_point(\n",
    "        opacity=0.3,\n",
    "        # filled=True,\n",
    "        size=70\n",
    "    ).encode(\n",
    "        x=alt.X(f'mean({impactField}):Q', title=impactField, scale=alt.Scale(type='symlog')),\n",
    "        y=alt.Y(f'sum({issueField}):Q', title=issueField, scale=alt.Scale(type='symlog')),\n",
    "        # color='hostInstitution',\n",
    "        color=alt.Color(f'{nameField}:N', scale=alt.Scale(range=['grey' if highlight else color]), legend=None),\n",
    "        tooltip=[nameField]\n",
    "    )\n",
    "    \n",
    "\n",
    "    trend = chart.transform_regression(\n",
    "        impactField,\n",
    "        issueField,\n",
    "        method='log'\n",
    "    ).mark_line(\n",
    "        opacity=1,\n",
    "        stroke='black',\n",
    "        strokeDash=[3 ,3]\n",
    "    ).encode(\n",
    "        x=alt.X(impactField, title=impactField, scale=alt.Scale(type='symlog')),\n",
    "        y=alt.Y(issueField, title=issueField, scale=alt.Scale(type='symlog'))\n",
    "    )\n",
    "    \n",
    "    if highlight:\n",
    "        overlay = chart.mark_point(filled=True, opacity=0.7, size=140).encode(\n",
    "            color=alt.Color(f'highlight:N', scale=alt.Scale(domain=[True], range=[color]), legend=None)\n",
    "        )\n",
    "        # .transform_filter(\n",
    "        #     alt.FieldEqualPredicate(field='highlight', equal=True)\n",
    "        # )\n",
    "        chart = (chart + overlay).resolve_scale(color='independent')\n",
    "\n",
    "    # top = alt.Chart(\n",
    "    #     filtered\n",
    "    # ).transform_density(\n",
    "    #     impactField,\n",
    "    #     as_=[impactField, f'{impactField}Density']\n",
    "    # ).mark_area().encode(\n",
    "    #     x=alt.X(f'{impactField}:Q', bin=True, scale=alt.Scale(type='log')),\n",
    "    #     y='count()',\n",
    "    # ).properties(\n",
    "    #     height=60\n",
    "    # )\n",
    "    charts.append((chart + trend).properties(\n",
    "        title={\n",
    "            \"text\": title,\n",
    "            \"subtitle\": f'N={N}'\n",
    "        },\n",
    "        width=340,\n",
    "        height=300\n",
    "    ))\n",
    "apply_theme(alt.hconcat(*charts).resolve_scale(color='independent', y='shared')).properties(\n",
    "    title='Impact Scores by Number of Accessibility Issues (\\\"Error\\\" & \\\"Contrast\\\")'\n",
    ")"
   ]
  },
  {
   "cell_type": "markdown",
   "id": "785acd96-c058-407c-a2f8-d7678d49c739",
   "metadata": {},
   "source": []
  }
 ],
 "metadata": {
  "kernelspec": {
   "display_name": "base",
   "language": "python",
   "name": "python3"
  },
  "language_info": {
   "codemirror_mode": {
    "name": "ipython",
    "version": 3
   },
   "file_extension": ".py",
   "mimetype": "text/x-python",
   "name": "python",
   "nbconvert_exporter": "python",
   "pygments_lexer": "ipython3",
   "version": "3.9.13"
  },
  "vscode": {
   "interpreter": {
    "hash": "a8bb4566648421152eab2c80a99b41c941f20a9702b17bc00f67120c6c73c42c"
   }
  }
 },
 "nbformat": 4,
 "nbformat_minor": 5
}
