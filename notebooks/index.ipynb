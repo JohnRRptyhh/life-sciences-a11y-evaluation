{
 "cells": [
  {
   "cell_type": "markdown",
   "id": "4a96484a-16cf-4b2e-ae24-4d4e3659472f",
   "metadata": {},
   "source": [
    "# Notebooks\n",
    "(To be updated)\n",
    "- [01-Preprocess.ipynb](./01-Preprocess.ipynb)\n",
    "- [02-Evaluate.ipynb](./02-Evaluate.ipynb)\n",
    "- [03-DataClean.ipynb](./03-DataClean.ipynb)\n",
    "- [04-Visualize.ipynb](./04-Visualize.ipynb)\n",
    "- [05-Evaluate-Multiple-Pages.ipynb](./05-Evaluate-Multiple-Pages.ipynb) (experimental)"
   ]
  }
 ],
 "metadata": {
  "kernelspec": {
   "display_name": "Python 3 (ipykernel)",
   "language": "python",
   "name": "python3"
  },
  "language_info": {
   "codemirror_mode": {
    "name": "ipython",
    "version": 3
   },
   "file_extension": ".py",
   "mimetype": "text/x-python",
   "name": "python",
   "nbconvert_exporter": "python",
   "pygments_lexer": "ipython3",
   "version": "3.10.13"
  }
 },
 "nbformat": 4,
 "nbformat_minor": 5
}
