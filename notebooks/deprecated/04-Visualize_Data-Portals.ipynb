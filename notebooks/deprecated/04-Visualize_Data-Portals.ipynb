{
 "cells": [
  {
   "cell_type": "code",
   "execution_count": null,
   "metadata": {},
   "outputs": [],
   "source": [
    "%load_ext autoreload\n",
    "%autoreload 2\n",
    "%aimport theme\n",
    "import pandas as pd\n",
    "import altair as alt\n",
    "import os\n",
    "from theme import apply_theme\n",
    "from constants import EVALUATION_DATE_FOLDER\n",
    "alt.data_transformers.disable_max_rows(); # Allow using rows more than 5000"
   ]
  },
  {
   "cell_type": "markdown",
   "metadata": {},
   "source": [
    "# Visualize\n",
    "For previous code, refer to `./deprecated/04-Visualize.ipynb`."
   ]
  },
  {
   "cell_type": "markdown",
   "metadata": {},
   "source": [
    "## Data Portals"
   ]
  },
  {
   "cell_type": "code",
   "execution_count": null,
   "metadata": {},
   "outputs": [],
   "source": [
    "\"\"\"\n",
    "Merge data for visualization\n",
    "\"\"\"\n",
    "df = pd.read_csv(os.path.join('..', 'output', EVALUATION_DATE_FOLDER, 'data-portal_evaluation.csv'))\n",
    "\n",
    "# Can be useful for visualization\n",
    "ERROR_TYPES = df.columns.tolist()\n",
    "ERROR_TYPES.remove('page_id')\n",
    "ERROR_TYPES.remove('is_success')\n",
    "ERROR_TYPES.remove('error_count')\n",
    "ERROR_TYPES.remove('alert_count')\n",
    "ERROR_TYPES.remove('contrast_count')\n",
    "ERROR_TYPES.remove('category_count')\n",
    "ERROR_TYPES.remove('count')\n",
    "\n",
    "# Add `id` of resources and `page_type` of pages\n",
    "df_pages = pd.read_csv(os.path.join('..', 'output', EVALUATION_DATE_FOLDER, 'data-portal_pages.csv'))\n",
    "df = df.merge(df_pages[['id', 'page_id', 'page_type']], left_on='page_id', right_on='page_id', how='left')\n",
    "\n",
    "# Add metadata of resources\n",
    "df_meta = pd.read_csv(os.path.join('..', 'output', EVALUATION_DATE_FOLDER, 'data-portal_metadata.csv'))\n",
    "# df_meta.drop(columns=['url'], inplace=True)\n",
    "df = df.merge(df_meta, left_on='id', right_on='id', how='left')\n",
    "\n",
    "# df\n",
    "# ERROR_TYPES\n",
    "len(df[df.page_type != 'home'])"
   ]
  },
  {
   "cell_type": "code",
   "execution_count": null,
   "metadata": {},
   "outputs": [],
   "source": [
    "# Let's add some useful columns for visualization\n",
    "df['error_and_contrast_count'] = df['error_count'] + df['contrast_count']\n",
    "df['has_error'] = (df['error_and_contrast_count']).apply(lambda x: x > 0)"
   ]
  },
  {
   "cell_type": "code",
   "execution_count": null,
   "metadata": {},
   "outputs": [],
   "source": [
    "THEME_COLOR = '#409F7A'"
   ]
  },
  {
   "cell_type": "code",
   "execution_count": null,
   "metadata": {},
   "outputs": [],
   "source": [
    "df_home = df[df['page_type'] == 'home']"
   ]
  },
  {
   "cell_type": "code",
   "execution_count": null,
   "metadata": {},
   "outputs": [],
   "source": [
    "df_home['count'].max()"
   ]
  },
  {
   "cell_type": "code",
   "execution_count": null,
   "metadata": {},
   "outputs": [],
   "source": [
    "point = alt.Chart(\n",
    "    df_home\n",
    ").mark_bar(\n",
    "    color=THEME_COLOR,\n",
    "    filled=True\n",
    ").encode(\n",
    "    alt.X(f'count:Q').bin(maxbins=400).scale(domain=[0, 2200], clamp=True),\n",
    "    alt.Y('count()').scale(type='log'),\n",
    "    alt.Tooltip('count()')\n",
    ").properties(\n",
    "    width=500\n",
    ")\n",
    "\n",
    "point"
   ]
  },
  {
   "cell_type": "code",
   "execution_count": null,
   "metadata": {},
   "outputs": [],
   "source": [
    "# Top countries by the number of resources\n",
    "COUNTRY_N = 20\n",
    "TOP_COUNTRY_BY_COUNT = df_home.country.value_counts().reset_index().sort_values(by='count', ascending=False)[:COUNTRY_N].country.tolist()\n",
    "TOP_COUNTRY_BY_COUNT"
   ]
  },
  {
   "cell_type": "code",
   "execution_count": null,
   "metadata": {},
   "outputs": [],
   "source": [
    "FIELD = 'count'\n",
    "\n",
    "COUNTRIES_SORT = df_home[df_home.country.isin(TOP_COUNTRY_BY_COUNT)][['country', FIELD]].groupby('country').median().sort_values(by=FIELD, ascending=False).reset_index().country.tolist()\n",
    "\n",
    "point = alt.Chart(\n",
    "    df_home[df_home.country.isin(COUNTRIES_SORT)]\n",
    ").mark_bar(\n",
    "    color=THEME_COLOR,\n",
    "    filled=True\n",
    ").encode(\n",
    "    alt.X(f'median({FIELD}):Q', title='The Median Number of Errors & Alerts'),\n",
    "    alt.Y('country:N', sort=COUNTRIES_SORT).axis(grid=True),\n",
    "    alt.Tooltip(['count(count):Q'])\n",
    ").properties(\n",
    "    width=500\n",
    ")\n",
    "\n",
    "per = alt.Chart(\n",
    "    df_home[df_home.country.isin(COUNTRIES_SORT)]\n",
    ").mark_bar(\n",
    "    color=THEME_COLOR,\n",
    "    filled=True\n",
    ").encode(\n",
    "    alt.X(f'mean(has_error):Q', title='Percent Pages w/ Errors & Alerts'),\n",
    "    alt.Y('country:N', sort=COUNTRIES_SORT).axis(grid=True),\n",
    "    alt.Tooltip(['count(count):Q'])\n",
    ").properties(\n",
    "    width=500\n",
    ")\n",
    "\n",
    "bar = point.mark_bar(\n",
    "    color=THEME_COLOR\n",
    ").encode(\n",
    "    alt.X(f'count({FIELD}):Q'),\n",
    "    alt.Y('country:N', sort=COUNTRIES_SORT),\n",
    ").properties(\n",
    "    width=100\n",
    ")\n",
    "\n",
    "chart = bar | point\n",
    "\n",
    "apply_theme(chart)"
   ]
  },
  {
   "cell_type": "code",
   "execution_count": null,
   "metadata": {},
   "outputs": [],
   "source": [
    "# Top countries by the number of resources\n",
    "N = 20\n",
    "TOP = df_home.host_institution.value_counts().reset_index().sort_values(by='count', ascending=False)[:N].host_institution.tolist()\n",
    "TOP"
   ]
  },
  {
   "cell_type": "code",
   "execution_count": null,
   "metadata": {},
   "outputs": [],
   "source": [
    "FIELD = 'count'\n",
    "C = 'host_institution'\n",
    "SORT = df_home[df_home[C].isin(TOP)][[C, FIELD]].groupby(C).median().sort_values(by=FIELD, ascending=False).reset_index()[C].tolist()\n",
    "\n",
    "point = alt.Chart(\n",
    "    df_home[df_home[C].isin(SORT)]\n",
    ").mark_bar(\n",
    "    color=THEME_COLOR,\n",
    "    filled=True\n",
    ").encode(\n",
    "    alt.X(f'median({FIELD}):Q', title='The Median Number of Errors & Alerts'),\n",
    "    alt.Y(f'{C}:N', sort=SORT, title=None).axis(grid=True),\n",
    "    alt.Tooltip(['count(count):Q'])\n",
    ").properties(\n",
    "    width=500\n",
    ")\n",
    "\n",
    "bar = point.mark_bar(\n",
    "    color=THEME_COLOR\n",
    ").encode(\n",
    "    alt.X(f'count({FIELD}):Q'),\n",
    "    alt.Y(f'{C}:N', sort=SORT, title=None),\n",
    ").properties(\n",
    "    width=100\n",
    ")\n",
    "\n",
    "chart = bar | point\n",
    "\n",
    "apply_theme(chart)"
   ]
  },
  {
   "cell_type": "code",
   "execution_count": null,
   "metadata": {},
   "outputs": [],
   "source": [
    "plot = alt.Chart(\n",
    "    df_home\n",
    ").mark_line(\n",
    "    color=THEME_COLOR,\n",
    "    # filled=True\n",
    ").encode(\n",
    "    alt.X('founded_year:O'),\n",
    "    alt.Y('median(count):Q'),\n",
    ").properties(\n",
    "    width=500\n",
    ")\n",
    "apply_theme(plot, x_label_angle=90)"
   ]
  },
  {
   "cell_type": "markdown",
   "metadata": {},
   "source": [
    "## Impact"
   ]
  },
  {
   "cell_type": "code",
   "execution_count": null,
   "metadata": {},
   "outputs": [],
   "source": [
    "plot = alt.Chart(\n",
    "    df_home\n",
    ").mark_bar(\n",
    "    color=THEME_COLOR,\n",
    "    filled=True\n",
    ").encode(\n",
    "    alt.Y('count()'),\n",
    "    alt.X('citation:Q').bin(maxbins=1000).scale(domain=[0, 1000], clamp=True),\n",
    ").properties(\n",
    "    width=400,\n",
    "    height=400\n",
    ")\n",
    "apply_theme(plot)"
   ]
  },
  {
   "cell_type": "code",
   "execution_count": null,
   "metadata": {},
   "outputs": [],
   "source": [
    "hs = df_home.sort_values(by='citation').citation.tolist()\n",
    "\n",
    "q1 = hs[int(len(hs) / 4)]\n",
    "q2 = hs[int(len(hs) / 2)]\n",
    "q3 = hs[int(len(hs) / 4 * 3)]\n",
    "\n",
    "print(q1, q2, q3)"
   ]
  },
  {
   "cell_type": "code",
   "execution_count": null,
   "metadata": {},
   "outputs": [],
   "source": [
    "df_home['citation_group'] = df_home.citation.apply(lambda x: '0-25%' if x <= q1 else '25-50%' if x <= q2 else '50-75%' if x <= q3 else '75%-100%')\n",
    "\n",
    "plot = alt.Chart(\n",
    "    df_home\n",
    ").mark_bar(\n",
    "    color=THEME_COLOR,\n",
    "    filled=True\n",
    ").encode(\n",
    "    alt.Y(f'mean(has_error):Q', title='Median Errors & Alerts').scale(domain=[0, 1]).axis(format='%'),\n",
    "    alt.X('citation_group:N'),\n",
    "    alt.Tooltip(['count(count):Q'])\n",
    ").properties(\n",
    "    width=400,\n",
    "    height=400\n",
    ")\n",
    "\n",
    "apply_theme(plot)"
   ]
  },
  {
   "cell_type": "code",
   "execution_count": null,
   "metadata": {},
   "outputs": [],
   "source": [
    "df_home['citation_group'] = df_home.citation.apply(lambda x: '0-25%' if x <= q1 else '25-50%' if x <= q2 else '50-75%' if x <= q3 else '75%-100%')\n",
    "\n",
    "plot = alt.Chart(\n",
    "    df_home\n",
    ").mark_bar(\n",
    "    color=THEME_COLOR,\n",
    "    filled=True\n",
    ").encode(\n",
    "    alt.Y(f'median(count):Q', title='Median Errors & Alerts'),\n",
    "    alt.X('citation_group:N'),\n",
    "    alt.Tooltip(['count(count):Q'])\n",
    ").properties(\n",
    "    width=400,\n",
    "    height=400\n",
    ")\n",
    "\n",
    "apply_theme(plot)"
   ]
  },
  {
   "cell_type": "markdown",
   "metadata": {},
   "source": [
    "## NIH Portals vs. EBI Portals"
   ]
  },
  {
   "cell_type": "code",
   "execution_count": null,
   "metadata": {},
   "outputs": [],
   "source": [
    "# NIH\n",
    "# NIH_CANDIDATES = df_home[\n",
    "#     (df_home.country == 'United States') & \n",
    "#     (~df_home.host_institution.str.contains('University', na=False)) &\n",
    "#     (df_home.host_institution.str.contains('National', na=False))\n",
    "# ].host_institution.value_counts().reset_index().sort_values(by='count', ascending=False).host_institution.tolist()\n",
    "NIH_INSTS = [\n",
    "    'National Center for Biotechnology Information',\n",
    "    'National Cancer Institute',\n",
    "    'National Heart, Lung, and Blood Institute',\n",
    "    'National Center for Advancing Translational Sciences',\n",
    "    'National Institutes of Health',\n",
    "    'National Human Genome Research Institute',\n",
    "    'National Institute of Environmental Health Sciences',\n",
    "    'National Library of Medicine',\n",
    "    'National Institute of Standards and Technology',\n",
    "    'National Institute of Health',\n",
    "    'National Institute on Aging',\n",
    "    'National Institute of Neurological Disorders & Stroke',\n",
    "    'National Institute of Child Health and Human Development',\n",
    "    'National Eye Institute',\n",
    "    'National Institute of Allergy and Infectious Diseases',\n",
    "    'National Institute of Arthritis and Musculoskeletal and Skin Diseases'\n",
    "]\n",
    "\n",
    "EBI_INSTS = [\n",
    "    'European Bioinformatics Institute'\n",
    "]\n",
    "\n",
    "df_insts = df_home[df_home.host_institution.isin(NIH_INSTS + EBI_INSTS)]\n",
    "\n",
    "df_insts['nih_vs_ebi'] = df_insts['host_institution'].apply(lambda x: 'NIH' if x in NIH_INSTS else 'EBI')\n",
    "\n",
    "# df_insts"
   ]
  },
  {
   "cell_type": "code",
   "execution_count": null,
   "metadata": {},
   "outputs": [],
   "source": [
    "plot = alt.Chart(\n",
    "    df_insts\n",
    ").mark_bar(\n",
    "    color=THEME_COLOR,\n",
    "    # thickness=4,\n",
    "    # filled=True,\n",
    "    size=50\n",
    ").encode(\n",
    "    alt.Y('median(count):Q', title='Median Errors & Alerts').scale(padding=2),\n",
    "    alt.X('nih_vs_ebi:N', title=None, sort=['NIH', 'EBI']),\n",
    ").properties(\n",
    "    width=200\n",
    ")\n",
    "\n",
    "per = alt.Chart(\n",
    "    df_insts\n",
    ").mark_bar(\n",
    "    color=THEME_COLOR,\n",
    "    # thickness=4,\n",
    "    # filled=True,\n",
    "    size=50\n",
    ").encode(\n",
    "    alt.Y('mean(has_error):Q', title='Percent Pages w/ Errors & Alerts').scale(domain=[0, 1]).axis(format='%'),\n",
    "    alt.X('nih_vs_ebi:N', title=None, sort=['NIH', 'EBI']),\n",
    ").properties(\n",
    "    width=200\n",
    ")\n",
    "\n",
    "bar = plot.encode(\n",
    "    alt.Y('count()')\n",
    ")\n",
    "\n",
    "apply_theme(plot | per | bar, x_label_angle=0)"
   ]
  },
  {
   "cell_type": "markdown",
   "metadata": {},
   "source": [
    "## US vs. Others"
   ]
  },
  {
   "cell_type": "code",
   "execution_count": null,
   "metadata": {},
   "outputs": [],
   "source": [
    "df_home['is_us'] = df_home.country.isin(['United States'])\n",
    "df_home['is_us'] = df_home['is_us'].apply(lambda x: 'US' if x else 'Non-US')"
   ]
  },
  {
   "cell_type": "code",
   "execution_count": null,
   "metadata": {},
   "outputs": [],
   "source": [
    "plot = alt.Chart(\n",
    "    df_home\n",
    ").mark_bar(\n",
    "    color=THEME_COLOR,\n",
    "    size=50\n",
    ").encode(\n",
    "    alt.Y('median(count):Q', title='Median Errors & Alerts'),\n",
    "    alt.X('is_us:N', title=None)\n",
    ").properties(\n",
    "    width=200\n",
    ")\n",
    "\n",
    "per = alt.Chart(\n",
    "    df_home\n",
    ").mark_bar(\n",
    "    color=THEME_COLOR,\n",
    "    size=50\n",
    ").encode(\n",
    "    alt.Y('mean(has_error):Q', title='Percent Pages w/ Errors & Alerts').scale(domain=[0, 1]).axis(format='%'),\n",
    "    alt.X('is_us:N', title=None)\n",
    ").properties(\n",
    "    width=200\n",
    ")\n",
    "\n",
    "bar = plot.encode(\n",
    "    alt.Y('count()')\n",
    ")\n",
    "\n",
    "apply_theme(plot | per | bar, x_label_angle=0)"
   ]
  },
  {
   "cell_type": "markdown",
   "metadata": {},
   "source": [
    "## NIH Portals vs. Non-NIH US Portals"
   ]
  },
  {
   "cell_type": "code",
   "execution_count": null,
   "metadata": {},
   "outputs": [],
   "source": [
    "df_us = df_home[df_home.country == 'United States']\n",
    "df_us['is_nih'] = df_us.host_institution.isin(NIH_INSTS)\n",
    "df_us['is_nih'] = df_us['is_nih'].apply(lambda x: 'NIH' if x else 'Others')"
   ]
  },
  {
   "cell_type": "code",
   "execution_count": null,
   "metadata": {},
   "outputs": [],
   "source": [
    "plot = alt.Chart(\n",
    "    df_us\n",
    ").mark_bar(\n",
    "    color=THEME_COLOR,\n",
    "    size=50\n",
    ").encode(\n",
    "    alt.Y('median(count):Q', title='Median Errors & Alerts'),\n",
    "    alt.X('is_nih:N', title=None)\n",
    ").properties(\n",
    "    width=200\n",
    ")\n",
    "\n",
    "per = alt.Chart(\n",
    "    df_us\n",
    ").mark_bar(\n",
    "    color=THEME_COLOR,\n",
    "    size=50\n",
    ").encode(\n",
    "    alt.Y('mean(has_error):Q', title='Percent Pages w/ Errors & Alerts').scale(domain=[0, 1]).axis(format='%'),\n",
    "    alt.X('is_nih:N', title=None)\n",
    ").properties(\n",
    "    width=200\n",
    ")\n",
    "\n",
    "bar = plot.encode(\n",
    "    alt.Y('count()')\n",
    ")\n",
    "\n",
    "apply_theme(plot | per | bar, x_label_angle=0)"
   ]
  },
  {
   "cell_type": "markdown",
   "metadata": {},
   "source": [
    "## NIH Breakdown"
   ]
  },
  {
   "cell_type": "code",
   "execution_count": null,
   "metadata": {},
   "outputs": [],
   "source": [
    "df_nih = df_us[df_us.is_nih == 'NIH']"
   ]
  },
  {
   "cell_type": "code",
   "execution_count": null,
   "metadata": {},
   "outputs": [],
   "source": [
    "plot = alt.Chart(\n",
    "    df_nih\n",
    ").mark_bar(\n",
    "    color=THEME_COLOR\n",
    ").encode(\n",
    "    alt.X('count:Q', title='Errors & Alerts'),\n",
    "    alt.Y('short_name:N', title=None, sort='-x'),\n",
    "    tooltip=['url']\n",
    ").properties(\n",
    ")\n",
    "\n",
    "apply_theme(plot, x_label_angle=0)"
   ]
  },
  {
   "cell_type": "markdown",
   "metadata": {},
   "source": [
    "## Temporal\n",
    "- WCAG 1.0: 1999-2007\n",
    "- WCAG 2.0: 2008-2017\n",
    "- WCAG 2.1: 2018-\n",
    "- WCAG 2.2: 2023"
   ]
  },
  {
   "cell_type": "code",
   "execution_count": null,
   "metadata": {},
   "outputs": [],
   "source": [
    "df_home['wcag'] = df_home.founded_year.apply(lambda x: '-1998 (Before WCAG 1.0)' if x < 1998 else '1999-2007 (WCAG 1.0)' if x < 2008 else '2008-2017 (WCAG 2.0)' if x < 2018 else '2018- (WCAG 2.1)')\n",
    "# df_home[df_home.wcag == '1999-2007 (WCAG 1.0)'].sort_values(by='count', ascending=False).url"
   ]
  },
  {
   "cell_type": "code",
   "execution_count": null,
   "metadata": {},
   "outputs": [],
   "source": [
    "plot = alt.Chart(\n",
    "    df_home[df_home.wcag != '-1998 (Before WCAG 1.0)']\n",
    ").mark_bar(\n",
    "    color=THEME_COLOR,\n",
    "    # filled=True\n",
    ").encode(\n",
    "    alt.X('wcag:N'),\n",
    "    alt.Y('median(count):Q', title='Median Errors & Alerts'),\n",
    ").properties(\n",
    "    width=400,\n",
    "    height=400\n",
    ")\n",
    "\n",
    "per = alt.Chart(\n",
    "    df_home[df_home.wcag != '-1998 (Before WCAG 1.0)']\n",
    ").mark_bar(\n",
    "    color=THEME_COLOR,\n",
    "    # filled=True\n",
    ").encode(\n",
    "    alt.X('wcag:N'),\n",
    "    alt.Y('mean(has_error):Q', title='Median Errors & Alerts'),\n",
    ").properties(\n",
    "    width=400,\n",
    "    height=400\n",
    ")\n",
    "\n",
    "bar = plot.encode(\n",
    "    alt.Y('count()'),\n",
    "    alt.X('wcag:N'),\n",
    ")\n",
    "\n",
    "apply_theme(plot | per | bar, x_label_angle=-90)"
   ]
  },
  {
   "cell_type": "markdown",
   "metadata": {},
   "source": [
    "## By Page Type"
   ]
  },
  {
   "cell_type": "code",
   "execution_count": null,
   "metadata": {},
   "outputs": [],
   "source": [
    "def mean_errors_in_page_by_page_type(df):\n",
    "    point = alt.Chart(df).mark_point(filled=True, color=THEME_COLOR, size=100).encode(\n",
    "        alt.X('mean(error_and_contrast_count):Q', title='Mean Errors'),\n",
    "        alt.Y('page_type:N', title='Page Type', sort=['home', 'documentation', 'search_result', 'search', 'data_entity']),\n",
    "    )\n",
    "    error_bar = alt.Chart(df).mark_errorbar(color=THEME_COLOR, thickness=2).encode(\n",
    "        alt.X('error_and_contrast_count:Q', title='Mean Errors'),\n",
    "        alt.Y('page_type:N', title='Page Type', sort=['home', 'documentation', 'search_result', 'search', 'data_entity']),\n",
    "    )\n",
    "    return apply_theme(\n",
    "        (point + error_bar).properties(\n",
    "            title='Average # of Errors in a Page',\n",
    "            height=300,\n",
    "            width=400\n",
    "        )\n",
    "    )\n",
    "mean_errors_in_page_by_page_type(df)"
   ]
  },
  {
   "cell_type": "code",
   "execution_count": null,
   "metadata": {},
   "outputs": [],
   "source": [
    "def error_pages_by_page_type(df):\n",
    "    bar = alt.Chart(df).mark_bar(color=THEME_COLOR).encode(\n",
    "        alt.Y('mean(has_error):Q', title='Percentage of Pages').axis(format='%', tickCount=20),\n",
    "        alt.X('page_type:N', title='Page Type', sort='-y'),\n",
    "        alt.Tooltip('mean(has_error):Q')\n",
    "    ).properties(\n",
    "        title='Proportion of Pages with Errors',\n",
    "        width=500\n",
    "    )\n",
    "\n",
    "    text = bar.mark_text(size=20, baseline='top', dy=10, color='white').encode(\n",
    "        alt.Text('mean(has_error):Q', format='.1%')\n",
    "    )\n",
    "    return apply_theme(\n",
    "        bar + text,\n",
    "        x_label_angle=-90\n",
    "    )\n",
    "error_pages_by_page_type(df)"
   ]
  },
  {
   "cell_type": "markdown",
   "metadata": {},
   "source": [
    "## By Error Type"
   ]
  },
  {
   "cell_type": "code",
   "execution_count": null,
   "metadata": {},
   "outputs": [],
   "source": [
    "id_vars = ['page_id', 'page_type']\n",
    "df_long = df[ERROR_TYPES + id_vars].melt(id_vars=id_vars, value_vars=ERROR_TYPES, var_name='error_type', value_name='error_count')\n",
    "df_long.head(3)"
   ]
  },
  {
   "cell_type": "code",
   "execution_count": null,
   "metadata": {},
   "outputs": [],
   "source": [
    "TOP_ERROR_TYPES = df_long.groupby(by='error_type').sum().sort_values(by='error_count', ascending=False)[0:10].reset_index().error_type.tolist()\n",
    "TOP_ERROR_TYPES"
   ]
  },
  {
   "cell_type": "code",
   "execution_count": null,
   "metadata": {},
   "outputs": [],
   "source": [
    "apply_theme(\n",
    "        alt.Chart(df_long[df_long.error_type.isin(TOP_ERROR_TYPES)]).mark_bar(color=THEME_COLOR).encode(\n",
    "        alt.Y('sum(error_count):Q', title='Total Errors & Alerts'),\n",
    "        alt.X('error_type:N', title='Error Type', sort='-y'),\n",
    "    ).properties(\n",
    "        width=400\n",
    "    ),\n",
    "    x_label_angle=-90\n",
    ")"
   ]
  },
  {
   "cell_type": "code",
   "execution_count": null,
   "metadata": {},
   "outputs": [],
   "source": [
    "wcag_level_map = {\n",
    "\t'error_label_missing':'Perceivable, Operable, Understandable',\n",
    "\t'error_language_missing':'Understandable',\n",
    "\t'error_button_empty':'Perceivable, Operable',\n",
    "\t'alert_alt_suspicious':'Perceivable',\n",
    "\t'alert_hPerceivable_missing':'Perceivable, Operable',\n",
    "\t'alert_link_redundant':'Operable',\n",
    "\t'alert_link_pdf':'Perceivable',\n",
    "\t'alert_text_small':'Perceivable',\n",
    "\t'contrast_contrast':'Perceivable',\n",
    "\t'alert_select_missing_label':'Perceivable, Operable, Understandable',\n",
    "\t'alert_region_missing':'Perceivable, Operable',\n",
    "\t'error_alt_missing':'Perceivable',\n",
    "\t'error_link_empty':'Operable',\n",
    "\t'error_aria_menu_broken':'Operable, Robust',\n",
    "\t'alert_alt_duplicate':'Perceivable',\n",
    "\t'alert_label_orphaned':'Perceivable, Operable, Understandable',\n",
    "\t'alert_heading_skipped':'Perceivable, Operable',\n",
    "\t'alert_link_suspicious':'Operable',\n",
    "\t'alert_event_handler':'Operable',\n",
    "\t'alert_text_justified':'Understandable',\n",
    "\t'alert_heading_missing':'Perceivable, Operable',\n",
    "\t'alert_link_internal_broken':'Operable',\n",
    "\t'error_alt_link_missing':'Perceivable, Operable',\n",
    "\t'alert_youtube_video':'Perceivable',\n",
    "\t'alert_title_redundant':'Understandable',\n",
    "\t'error_th_empty':'Perceivable',\n",
    "\t'alert_noscript':'Other',\n",
    "\t'alert_image_title':'Perceivable',\n",
    "\t'alert_label_title':'Perceivable, Operable, Understandable',\n",
    "\t'alert_accesskey':'Operable',\n",
    "\t'alert_table_layout':'Perceivable',\n",
    "\t'error_heading_empty':'Operable, Understandable',\n",
    "\t'alert_alt_redundant':'Perceivable',\n",
    "\t'alert_legend_missing':'Perceivable, Operable, Understandable',\n",
    "\t'alert_tabindex':'Operable',\n",
    "\t'alert_heading_possible':'Perceivable, Operable',\n",
    "\t'alert_underline':'Understandable',\n",
    "\t'error_link_skip_broken':'Operable',\n",
    "\t'alert_fieldset_missing':'Perceivable, Operable, Understandable',\n",
    "\t'alert_plugin':'Perceivable',\n",
    "\t'alert_alt_long':'Perceivable',\n",
    "\t'alert_javascript_jumpmenu':'Operable, Understandable',\n",
    "\t'error_alt_spacer_missing':'Perceivable',\n",
    "\t'error_title_invalid':'Operable',\n",
    "\t'error_aria_reference_broken':'Perceivable',\n",
    "\t'alert_table_caption_possible':'Perceivable',\n",
    "\t'alert_link_powerpoint':'Perceivable',\n",
    "\t'alert_link_excel':'Perceivable',\n",
    "\t'alert_audio_video':'Perceivable',\n",
    "\t'alert_list_possible':'Perceivable',\n",
    "\t'error_label_multiple':'Perceivable, Operable, Understandable',\n",
    "\t'error_meta_refresh':'Operable',\n",
    "\t'error_alt_area_missing':'Perceivable, Operable',\n",
    "\t'alert_flash':'Perceivable, Operable',\n",
    "\t'error_alt_map_missing':'Perceivable',\n",
    "\t'error_label_empty':'Perceivable, Operable, Understandable',\n",
    "\t'alert_html5_video_audio':'Perceivable',\n",
    "\t'error_alt_input_missing':'Perceivable, Operable',\n",
    "\t'alert_link_word':'Perceivable',\n",
    "\t'alert_longdesc':'Perceivable',\n",
    "\t'error_marquee':'Operable',\n",
    "\t'error_blink':'Operable',\n",
    "\t'alert_applet': 'Other',\n",
    "\t'alert_h1_missing': 'Perceivable, Operable'\n",
    "}"
   ]
  },
  {
   "cell_type": "code",
   "execution_count": null,
   "metadata": {},
   "outputs": [],
   "source": [
    "id_vars = ['page_id', 'page_type']\n",
    "df_long = df[ERROR_TYPES + id_vars].melt(id_vars=id_vars, value_vars=ERROR_TYPES, var_name='error_type', value_name='error_count')\n",
    "df_long['wcag_level'] = df_long['error_type'].apply(lambda x: wcag_level_map[x])\n",
    "\n",
    "def f(levels, b, l):\n",
    "    if l in levels:\n",
    "        return b\n",
    "    else:\n",
    "        return 0\n",
    "for l in ['Perceivable', 'Operable', 'Understandable', 'Robust', 'Other']:\n",
    "    df_long[l] = df_long.apply(lambda x: f(x.wcag_level, x.error_count, l), axis=1)\n",
    "\n",
    "# df_long['Operable'] = df_long['error_count']\n",
    "# df_long['Understandable'] = df_long['error_count']\n",
    "# df_long['Robust'] = df_long['error_count']\n",
    "# df_long['Other'] = df_long['error_count']\n",
    "\n",
    "df_long.head(3)\n",
    "# ERROR_TYPES"
   ]
  },
  {
   "cell_type": "code",
   "execution_count": null,
   "metadata": {},
   "outputs": [],
   "source": [
    "id_vars = ['page_id', 'page_type', 'error_type']\n",
    "LEVELS = ['Perceivable', 'Operable', 'Understandable', 'Robust', 'Other']\n",
    "df_long_level = df_long[LEVELS + id_vars].melt(id_vars=id_vars, value_vars=LEVELS, var_name='level', value_name='count')\n",
    "df_long_level.head(3)"
   ]
  },
  {
   "cell_type": "code",
   "execution_count": null,
   "metadata": {},
   "outputs": [],
   "source": [
    "def average_errors_by_error_type_and_page_type(df_long_level):\n",
    "    bar = alt.Chart(df_long_level[df_long_level.page_type != 'home']).mark_bar(color=THEME_COLOR).encode(\n",
    "        alt.X('sum(count):Q', title='Total Errors & Alerts'),\n",
    "        alt.Y('level:N', title='Error Groups', sort=LEVELS)\n",
    "    ).properties(\n",
    "        width=200\n",
    "    )\n",
    "    # error_bar = alt.Chart(df_long).mark_errorbar(color=THEME_COLOR, thickness=2).encode(\n",
    "    #     alt.X('error_count:Q', title='Average Number of Errors'),\n",
    "    #     alt.Y('wcag_level:N', title='Error Type').axis(grid=True)\n",
    "    # )\n",
    "    return apply_theme(\n",
    "        (bar).facet(\n",
    "            alt.Column('page_type:N', title=None),\n",
    "        ).properties(\n",
    "        )\n",
    "    )\n",
    "average_errors_by_error_type_and_page_type(df_long_level)"
   ]
  },
  {
   "cell_type": "code",
   "execution_count": null,
   "metadata": {},
   "outputs": [],
   "source": [
    "def num_of_errors_by_resources(df):\n",
    "    bar = alt.Chart(df).mark_bar(color=THEME_COLOR).encode(\n",
    "        alt.X('sum(error_count):Q', title='The Number of Errors').scale(type='symlog').axis(tickCount=20, orient='top'),\n",
    "        alt.Y('short_name:N', title=None, sort='-x'),\n",
    "        alt.Column('page_type:N', title='Page Type'),\n",
    "    )\n",
    "    return apply_theme(\n",
    "        (bar).properties(\n",
    "            title='Average # of Errors in a Page by Page Type',\n",
    "            # height=300,\n",
    "            width=200\n",
    "        )\n",
    "    )\n",
    "num_of_errors_by_resources(df)"
   ]
  },
  {
   "cell_type": "code",
   "execution_count": null,
   "metadata": {},
   "outputs": [],
   "source": [
    "def average_errors_by_error_type_and_page_type(df_long):\n",
    "    point = alt.Chart(df_long).mark_point(filled=True, color=THEME_COLOR).encode(\n",
    "        alt.X('mean(error_count):Q', title='Average Number of Errors').scale(domain=[0, 200], clamp=True),\n",
    "        alt.Y('error_type:N', title='Error Type')\n",
    "    ).properties(\n",
    "        width=200\n",
    "    )\n",
    "    error_bar = alt.Chart(df_long).mark_errorbar(color=THEME_COLOR, thickness=2).encode(\n",
    "        alt.X('error_count:Q', title='Average Number of Errors'),\n",
    "        alt.Y('error_type:N', title='Error Type').axis(grid=True)\n",
    "    )\n",
    "    return apply_theme(\n",
    "        (point + error_bar).facet(\n",
    "            alt.Column('page_type:N', title='Page Type'),\n",
    "        ).properties(\n",
    "            title='Average # of Errors in a Page by Page Type'\n",
    "        )\n",
    "    )\n",
    "average_errors_by_error_type_and_page_type(df_long)"
   ]
  },
  {
   "cell_type": "code",
   "execution_count": null,
   "metadata": {},
   "outputs": [],
   "source": [
    "# Let's add some useful columns for visualization\n",
    "df_long['has_error'] = df_long.error_count.apply(lambda x: x > 0)"
   ]
  },
  {
   "cell_type": "code",
   "execution_count": null,
   "metadata": {},
   "outputs": [],
   "source": [
    "def error_pages_by_page_type(df_long):\n",
    "    bar = alt.Chart(df_long).mark_bar(color=THEME_COLOR).encode(\n",
    "        alt.X('mean(has_error):Q', title='Percentage of Pages').scale(domain=[0, 1]).axis(format='%'),\n",
    "        alt.Y('error_type:N', title='Error Type')\n",
    "    ).properties(\n",
    "        width=200\n",
    "    )\n",
    "    return apply_theme(\n",
    "        bar.facet(\n",
    "            alt.Column('page_type:N', title='Page Type'),\n",
    "        ).properties(\n",
    "            title='Proportion of Error Pages by Page Type'\n",
    "        )\n",
    "    )\n",
    "error_pages_by_page_type(df_long)"
   ]
  },
  {
   "cell_type": "code",
   "execution_count": null,
   "metadata": {},
   "outputs": [],
   "source": []
  },
  {
   "cell_type": "code",
   "execution_count": null,
   "metadata": {},
   "outputs": [],
   "source": []
  }
 ],
 "metadata": {
  "kernelspec": {
   "display_name": "life-sciences-a11y-evaluation",
   "language": "python",
   "name": "python3"
  },
  "language_info": {
   "codemirror_mode": {
    "name": "ipython",
    "version": 3
   },
   "file_extension": ".py",
   "mimetype": "text/x-python",
   "name": "python",
   "nbconvert_exporter": "python",
   "pygments_lexer": "ipython3",
   "version": "3.10.13"
  }
 },
 "nbformat": 4,
 "nbformat_minor": 2
}
