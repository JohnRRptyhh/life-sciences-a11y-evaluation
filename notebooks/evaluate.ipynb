{
 "cells": [
  {
   "cell_type": "code",
   "execution_count": null,
   "id": "08ea9b39-afaa-4d27-b1bb-733b6accbe31",
   "metadata": {},
   "outputs": [],
   "source": [
    "import pandas as pd\n",
    "import urllib\n",
    "import requests\n",
    "import json"
   ]
  },
  {
   "cell_type": "markdown",
   "id": "b7f309c9-1d1d-4f09-b6ae-a277bf7bf994",
   "metadata": {},
   "source": [
    "# Evaluate Data Portals"
   ]
  },
  {
   "cell_type": "code",
   "execution_count": null,
   "id": "3533568e-f08a-4aa5-b4a7-54357d8337b9",
   "metadata": {},
   "outputs": [],
   "source": [
    "NUM_OF_MANUALLY_ADDED = 3\n",
    "FILTER_TOP = None # 1000 - NUM_OF_MANUALLY_ADDED # select the top N portals"
   ]
  },
  {
   "cell_type": "code",
   "execution_count": null,
   "id": "ec790d72-deb4-4538-ab63-4952ea419ef3",
   "metadata": {},
   "outputs": [],
   "source": [
    "with open('../input/api.lab.key', 'r') as f:\n",
    "    apiKey = f.read() # WAVE API key"
   ]
  },
  {
   "cell_type": "code",
   "execution_count": null,
   "id": "9c5a5820-3f81-4995-969b-d9faec9805aa",
   "metadata": {},
   "outputs": [],
   "source": [
    "dbs = pd.read_json('../input/database-commons-with-status.json') # already sorted by impact scores\n",
    "\n",
    "# Uncomment the following line to load original data (i.e., database-commons.json)\n",
    "# dbs = pd.DataFrame.from_dict(dbs.data.to_dict(), orient='index')\n",
    "\n",
    "dbs = dbs[dbs.response == 200]\n",
    "if dbs is not None:\n",
    "    dbs = dbs[0:FILTER_TOP]\n",
    "dbs"
   ]
  },
  {
   "cell_type": "code",
   "execution_count": null,
   "id": "c2d2f797-1dc7-4376-86db-595affbcc772",
   "metadata": {},
   "outputs": [],
   "source": [
    "manually_picked = pd.read_json('../input/manually-added-data-portals.json')\n",
    "manually_picked\n",
    "dbs = dbs.append(manually_picked)\n",
    "dbs"
   ]
  },
  {
   "cell_type": "code",
   "execution_count": null,
   "id": "1ecf8b75-efb2-427c-88f2-e3f93f3037b7",
   "metadata": {},
   "outputs": [],
   "source": [
    "\"\"\"\n",
    "Load existing reports\n",
    "\"\"\"\n",
    "f = open('../output/a11y-reports.json', 'r')\n",
    "reports = json.load(f)\n",
    "f.close()\n",
    "\n",
    "\"\"\"\n",
    "Iterate to add missing reports\n",
    "\"\"\"\n",
    "for index, row in dbs.iterrows():\n",
    "    dbId = row.dbId\n",
    "    shortName = row.shortName\n",
    "    url = row.url\n",
    "\n",
    "    reportExist = any(report['dbId'] == dbId for report in reports)\n",
    "    if not reportExist:\n",
    "        print('Loading... ', dbId, shortName, url)\n",
    "\n",
    "        apiUrl = f'https://wave.webaim.org/api/request?key={apiKey}&reporttype=2&url={url}'\n",
    "        # apiUrl = 'https://raw.githubusercontent.com/gosling-lang/gosling.js/master/tsconfig.json'\n",
    "        try:\n",
    "        \n",
    "            with urllib.request.urlopen(apiUrl) as f:\n",
    "                newReport = json.load(f)\n",
    "                newData = {}\n",
    "                newData['dbId'] = dbId\n",
    "                newData['shortName'] = shortName\n",
    "                newData['url'] = url\n",
    "                newData['report'] = newReport\n",
    "                reports.append(newData)\n",
    "                # print(reports)\n",
    "\n",
    "            with open('../output/a11y-reports.json', 'w') as f:\n",
    "                json.dump(reports, f)\n",
    "        except:\n",
    "            print('failed')"
   ]
  },
  {
   "cell_type": "markdown",
   "id": "1ebe3849-9030-4975-b84a-4de3e11e5070",
   "metadata": {},
   "source": [
    "# Merge Data"
   ]
  },
  {
   "cell_type": "code",
   "execution_count": null,
   "id": "34d6a393-d9b6-4d3d-9064-808256eb11f8",
   "metadata": {},
   "outputs": [],
   "source": [
    "\"\"\"\n",
    "Issues By Site\n",
    "\"\"\"\n",
    "issues = []\n",
    "with open('../output/a11y-reports.json', 'r') as f:\n",
    "    reports = json.load(f)\n",
    "    for report in reports:\n",
    "        metrics = ['error', 'contrast', 'alert']\n",
    "        for m in metrics:\n",
    "            if report['report']['status']['success'] == False:\n",
    "                continue\n",
    "\n",
    "            stats = report['report']['categories'][m]['items']\n",
    "\n",
    "            row = {}\n",
    "            row['dbId'] = report['dbId']\n",
    "            row['shortName'] = report['shortName']\n",
    "            row['url'] = report['url']\n",
    "            row['type'] = m\n",
    "\n",
    "            for e in stats:\n",
    "                name = stats[e]['id']\n",
    "                count = stats[e]['count']\n",
    "                row_copy = row.copy()\n",
    "                row_copy['name'] = name\n",
    "                row_copy['count'] = count\n",
    "                \n",
    "                issues.append(row_copy)\n",
    "\n",
    "issues = pd.DataFrame.from_records(issues)\n",
    "issues.head()"
   ]
  },
  {
   "cell_type": "code",
   "execution_count": null,
   "id": "8916d510-f6f9-480b-b43c-66a039e07ca0",
   "metadata": {},
   "outputs": [],
   "source": [
    "\"\"\"\n",
    "Site Metadata\n",
    "\"\"\"\n",
    "sites = pd.read_json('../input/database-commons-with-status.json')\n",
    "sites.head()"
   ]
  },
  {
   "cell_type": "code",
   "execution_count": null,
   "id": "778ce72c-5b31-4f5f-8c1d-b8d8a256d900",
   "metadata": {},
   "outputs": [],
   "source": [
    "\"\"\"\n",
    "Merge\n",
    "\"\"\"\n",
    "df = issues.set_index(\"dbId\").join(sites.set_index(\"dbId\").drop(columns=['shortName', 'url'])).reset_index()\n",
    "df.to_json('../output/a11y-reports-with-metadata.json', orient='records')\n",
    "df.tail()"
   ]
  },
  {
   "cell_type": "code",
   "execution_count": null,
   "id": "03734762-d88c-4b80-81f4-318052b72c66",
   "metadata": {},
   "outputs": [],
   "source": [
    "\"\"\"\n",
    "Data Cleaning\n",
    "\"\"\"\n",
    "import math\n",
    "\n",
    "cdf = df.copy()\n",
    "\n",
    "def json_to_str(x, k):\n",
    "    if isinstance(x, float):\n",
    "        return x\n",
    "    else:\n",
    "        values = list(map((lambda _: _[k]), x))\n",
    "        values.sort()\n",
    "        return ', '.join(values)\n",
    "    \n",
    "multi_label_columns = [\n",
    "    ('dataTypeList', 'datatypeName'), \n",
    "    ('categoryList', 'name'), \n",
    "    ('keywordsList', 'name'),\n",
    "    ('dataObjectList', 'name'),\n",
    "#     ('ratingList', 'name'),\n",
    "    ('organismList', 'organismName'),\n",
    "    \n",
    "]\n",
    "\n",
    "for (c, k) in multi_label_columns:\n",
    "    cdf[c] = cdf[c].apply(lambda x: json_to_str(x, k))\n",
    "\n",
    "cdf = cdf.drop(columns=['ratingList', 'biodbRanks'])\n",
    "    \n",
    "cdf.to_json('../output/a11y-reports-with-metadata.json', orient='records')\n",
    "cdf"
   ]
  },
  {
   "cell_type": "code",
   "execution_count": null,
   "id": "36b42278-4dd2-432b-b434-cb3b68fee67a",
   "metadata": {},
   "outputs": [],
   "source": []
  }
 ],
 "metadata": {
  "kernelspec": {
   "display_name": "Python 3 (ipykernel)",
   "language": "python",
   "name": "python3"
  },
  "language_info": {
   "codemirror_mode": {
    "name": "ipython",
    "version": 3
   },
   "file_extension": ".py",
   "mimetype": "text/x-python",
   "name": "python",
   "nbconvert_exporter": "python",
   "pygments_lexer": "ipython3",
   "version": "3.9.1"
  }
 },
 "nbformat": 4,
 "nbformat_minor": 5
}
