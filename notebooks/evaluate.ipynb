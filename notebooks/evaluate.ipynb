{
 "cells": [
  {
   "cell_type": "code",
   "execution_count": null,
   "id": "08ea9b39-afaa-4d27-b1bb-733b6accbe31",
   "metadata": {},
   "outputs": [],
   "source": [
    "import pandas as pd\n",
    "import urllib.request\n",
    "import json"
   ]
  },
  {
   "cell_type": "markdown",
   "id": "b7f309c9-1d1d-4f09-b6ae-a277bf7bf994",
   "metadata": {},
   "source": [
    "# Evaluate Data Portals"
   ]
  },
  {
   "cell_type": "code",
   "execution_count": null,
   "id": "3533568e-f08a-4aa5-b4a7-54357d8337b9",
   "metadata": {},
   "outputs": [],
   "source": [
    "NUM_OF_MANUALLY_ADDED = 3\n",
    "FILTER_TOP = 503 - NUM_OF_MANUALLY_ADDED # select the top N portals"
   ]
  },
  {
   "cell_type": "code",
   "execution_count": null,
   "id": "ec790d72-deb4-4538-ab63-4952ea419ef3",
   "metadata": {},
   "outputs": [],
   "source": [
    "with open('../input/api.lab.key', 'r') as f:\n",
    "    apiKey = f.read() # WAVE API key"
   ]
  },
  {
   "cell_type": "code",
   "execution_count": null,
   "id": "9c5a5820-3f81-4995-969b-d9faec9805aa",
   "metadata": {},
   "outputs": [],
   "source": [
    "dbs = pd.read_json('../input/database-commons.json') # already sorted by impact scores\n",
    "dbs = pd.DataFrame.from_dict(dbs.data.to_dict(), orient='index')\n",
    "dbs = dbs[0:FILTER_TOP]\n",
    "dbs"
   ]
  },
  {
   "cell_type": "code",
   "execution_count": null,
   "id": "c2d2f797-1dc7-4376-86db-595affbcc772",
   "metadata": {},
   "outputs": [],
   "source": [
    "manually_picked = pd.read_json('../input/manually-added-data-portals.json')\n",
    "manually_picked\n",
    "dbs = dbs.append(manually_picked)\n",
    "dbs"
   ]
  },
  {
   "cell_type": "code",
   "execution_count": null,
   "id": "1ecf8b75-efb2-427c-88f2-e3f93f3037b7",
   "metadata": {},
   "outputs": [],
   "source": [
    "\"\"\"\n",
    "Load existing reports\n",
    "\"\"\"\n",
    "f = open('../output/a11y-reports.json', 'r')\n",
    "reports = json.load(f)\n",
    "f.close()\n",
    "\n",
    "\"\"\"\n",
    "Iterate to add missing reports\n",
    "\"\"\"\n",
    "for index, row in dbs.iterrows():\n",
    "    dbId = row.dbId\n",
    "    shortName = row.shortName\n",
    "    url = row.url\n",
    "\n",
    "    reportExist = any(report['dbId'] == dbId for report in reports)\n",
    "    if not reportExist:\n",
    "        print('Loading... ', dbId, shortName, url)\n",
    "\n",
    "        apiUrl = f'https://wave.webaim.org/api/request?key={apiKey}&reporttype=2&url={url}'\n",
    "        # apiUrl = 'https://raw.githubusercontent.com/gosling-lang/gosling.js/master/tsconfig.json'\n",
    "        with urllib.request.urlopen(apiUrl) as f:\n",
    "            newReport = json.load(f)\n",
    "            newData = {}\n",
    "            newData['dbId'] = dbId\n",
    "            newData['shortName'] = shortName\n",
    "            newData['url'] = url\n",
    "            newData['report'] = newReport\n",
    "            reports.append(newData)\n",
    "            # print(reports)\n",
    "\n",
    "        with open('../output/a11y-reports.json', 'w') as f:\n",
    "            json.dump(reports, f)"
   ]
  },
  {
   "cell_type": "code",
   "execution_count": null,
   "id": "628b5288-2d43-4fcd-8dee-416ff8d54bee",
   "metadata": {},
   "outputs": [],
   "source": []
  }
 ],
 "metadata": {
  "kernelspec": {
   "display_name": "Python 3 (ipykernel)",
   "language": "python",
   "name": "python3"
  },
  "language_info": {
   "codemirror_mode": {
    "name": "ipython",
    "version": 3
   },
   "file_extension": ".py",
   "mimetype": "text/x-python",
   "name": "python",
   "nbconvert_exporter": "python",
   "pygments_lexer": "ipython3",
   "version": "3.9.1"
  }
 },
 "nbformat": 4,
 "nbformat_minor": 5
}
