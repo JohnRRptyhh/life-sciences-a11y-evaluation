{
 "cells": [
  {
   "cell_type": "markdown",
   "id": "a605a537-03d2-48c2-b17e-9d23c364e8ca",
   "metadata": {},
   "source": [
    "# Outline (Deprecated)\n",
    "\n",
    "Notebooks here evaluate existing web-based resources in bio area and visualize them.\n",
    "\n",
    "1. [Evaluate.ipynb](1-Evaluate.ipynb): data collection and clean-up\n",
    "1. [visualize.ipynb](visualize.ipynb): visualization of collected data\n",
    "1. [playground.ipynb](playground.ipynb): visualize using given datasets"
   ]
  },
  {
   "cell_type": "code",
   "execution_count": null,
   "id": "b1474b0c-9f73-4873-8279-c392215c3306",
   "metadata": {},
   "outputs": [],
   "source": []
  }
 ],
 "metadata": {
  "kernelspec": {
   "display_name": "Python 3 (ipykernel)",
   "language": "python",
   "name": "python3"
  },
  "language_info": {
   "codemirror_mode": {
    "name": "ipython",
    "version": 3
   },
   "file_extension": ".py",
   "mimetype": "text/x-python",
   "name": "python",
   "nbconvert_exporter": "python",
   "pygments_lexer": "ipython3",
   "version": "3.9.13"
  }
 },
 "nbformat": 4,
 "nbformat_minor": 5
}
