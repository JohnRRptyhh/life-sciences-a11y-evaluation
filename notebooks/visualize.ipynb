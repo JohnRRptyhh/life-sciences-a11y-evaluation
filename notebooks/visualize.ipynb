{
 "cells": [
  {
   "cell_type": "code",
   "execution_count": null,
   "id": "08ea9b39-afaa-4d27-b1bb-733b6accbe31",
   "metadata": {},
   "outputs": [],
   "source": [
    "import pandas as pd\n",
    "import altair as alt\n",
    "import json\n",
    "from theme import apply_theme"
   ]
  },
  {
   "cell_type": "markdown",
   "id": "b7f309c9-1d1d-4f09-b6ae-a277bf7bf994",
   "metadata": {},
   "source": [
    "# Visualize Evaluation Results"
   ]
  },
  {
   "cell_type": "code",
   "execution_count": null,
   "id": "3533568e-f08a-4aa5-b4a7-54357d8337b9",
   "metadata": {},
   "outputs": [],
   "source": [
    "data = []\n",
    "with open('../output/a11y-reports.json', 'r') as f:\n",
    "    reports = json.load(f)\n",
    "    for report in reports:\n",
    "        categories = report['report']['categories']\n",
    "\n",
    "        row = {}\n",
    "        row['dbId'] = report['dbId']\n",
    "        row['shortName'] = report['shortName']\n",
    "        row['url'] = report['url']\n",
    "        row['error'] = categories['error']['count']\n",
    "        row['contrast'] = categories['contrast']['count']\n",
    "        row['alert'] = categories['alert']['count']\n",
    "        data.append(row)\n",
    "data = pd.DataFrame.from_records(data)\n",
    "data['error'] += data['contrast']\n",
    "data.head()"
   ]
  },
  {
   "cell_type": "markdown",
   "id": "541a7f09-3d49-4319-805f-92d3662429ef",
   "metadata": {},
   "source": [
    "## Overview"
   ]
  },
  {
   "cell_type": "code",
   "execution_count": null,
   "id": "93846edf-f90f-473e-a262-7b60f9f859bd",
   "metadata": {},
   "outputs": [],
   "source": [
    "metric = [\n",
    "    ('errors', 'error', '#CC7DAA'),\n",
    "    # ('contrast issues', 'contrast', '#D6641E'),\n",
    "    ('alerts', 'alert', '#E6A01B'),\n",
    "]\n",
    "\n",
    "for (name, field, hex) in metric:\n",
    "    plot_alert = alt.Chart(data).mark_bar().encode(\n",
    "        y=alt.X(f'{field}:Q', scale=alt.Scale(type='log'), title=f'The number of {name}'),\n",
    "        x=alt.Y('shortName:N', sort='-y', title='Data portals', axis=alt.Axis(labelAngle=300)),\n",
    "        color=alt.value(hex)\n",
    "    ).transform_filter(\n",
    "        alt.datum[field] > 0  \n",
    "    ).properties(\n",
    "        title=f'The Number of \"{name.capitalize()}\" By Data Portals'\n",
    "    )\n",
    "\n",
    "    if name == 'errors':\n",
    "        # https://webaim.org/projects/million/\n",
    "        mean = 43.7\n",
    "        r = alt.Chart().mark_rule(color='black', strokeDash=[10, 10]).encode(y=alt.datum(mean))\n",
    "        t = alt.Chart().mark_text(color='black', strokeDash=[10, 10], angle=0, dy=-10).encode(y=alt.datum(mean), text=alt.datum('WAVE Average'))\n",
    "        plot_alert += (r + t)\n",
    "\n",
    "    plot_alert = apply_theme(plot_alert)\n",
    "    # plot_alert.save('report-error.png') # does not work\n",
    "    plot_alert.display()"
   ]
  },
  {
   "cell_type": "markdown",
   "id": "1e38d067-1580-464c-b5f1-3214fdcaae64",
   "metadata": {},
   "source": [
    "## Detailed issues"
   ]
  },
  {
   "cell_type": "code",
   "execution_count": null,
   "id": "9c5a5820-3f81-4995-969b-d9faec9805aa",
   "metadata": {},
   "outputs": [],
   "source": [
    "details = []\n",
    "with open('../output/a11y-reports.json', 'r') as f:\n",
    "    reports = json.load(f)\n",
    "    for report in reports:\n",
    "        metrics = ['error', 'contrast', 'alert']\n",
    "        for m in metrics:\n",
    "            stats = report['report']['categories'][m]['items']\n",
    "\n",
    "            row = {}\n",
    "            row['dbId'] = report['dbId']\n",
    "            row['shortName'] = report['shortName']\n",
    "            row['url'] = report['url']\n",
    "            row['type'] = m\n",
    "\n",
    "            for e in stats:\n",
    "                name = stats[e]['id']\n",
    "                count = stats[e]['count']\n",
    "                row_copy = row.copy()\n",
    "                row_copy['name'] = name\n",
    "                row_copy['count'] = count\n",
    "                \n",
    "                details.append(row_copy)\n",
    "\n",
    "details = pd.DataFrame.from_records(details)\n",
    "details"
   ]
  },
  {
   "cell_type": "code",
   "execution_count": null,
   "id": "c2d2f797-1dc7-4376-86db-595affbcc772",
   "metadata": {},
   "outputs": [],
   "source": [
    "plot = alt.Chart(details).mark_rect(\n",
    "    stroke='white',\n",
    "    opacity=1\n",
    ").encode(\n",
    "    # x=alt.X('count', scale=alt.Scale(type='linear'), title='The number of issues'),\n",
    "    x=alt.X('shortName:N', sort='-color', axis=alt.Axis(labelAngle=270, grid=True, zindex=0)),\n",
    "    y=alt.Y('name:N', title=None, axis=alt.Axis(grid=True, zindex=0)),\n",
    "    color=alt.Color(\n",
    "        'count:Q',\n",
    "        scale=alt.Scale(type='log', domain=[1, 100], clamp=True),   \n",
    "        legend=alt.Legend(gradientLength=300)\n",
    "    ),\n",
    "    row=alt.Row('type:N', header=alt.Header(labelOrient='left', title=None), sort=['error', 'contrast', 'alert'])\n",
    "    # row=alt.Row('name:N', title=None, header=alt.Header(\n",
    "    #     labelOrient='left', labelAngle=0, labelAnchor='middle', labelAlign='left'\n",
    "    # ), spacing=0)\n",
    ").transform_filter(\n",
    "    alt.datum['count'] > 0\n",
    ").resolve_scale(y='independent').properties(\n",
    "    # height=40,\n",
    "    # width=600\n",
    ")\n",
    "plot = apply_theme(plot)\n",
    "plot"
   ]
  },
  {
   "cell_type": "code",
   "execution_count": null,
   "id": "1ecf8b75-efb2-427c-88f2-e3f93f3037b7",
   "metadata": {},
   "outputs": [],
   "source": [
    "c = [\n",
    "    ('alt_link_missing', 'lightgrey'),\n",
    "    ('alt_missing', 'blue'),\n",
    "    ('alt_spacer_missing', 'lightgrey'),\n",
    "    ('aria_menu_broken', 'lightgrey'),\n",
    "    ('aria_reference_broken', 'lightgrey'),\n",
    "    ('button_empty', 'orange'),\n",
    "    ('contrast', 'red'),\n",
    "    ('heading_empty', 'lightgrey'),\n",
    "    ('label_empty', 'lightgrey'),\n",
    "    ('label_missing', 'green'),\n",
    "    ('label_multiple', 'lightgrey'),\n",
    "    ('language_missing', 'purple'),\n",
    "    ('link_empty', '#CE5D5C'),\n",
    "    ('link_skip_broken', 'lightgrey'),\n",
    "    ('th_empty', 'lightgrey'),\n",
    "    ('title_invalid', 'lightgrey'),\n",
    "]\n",
    "by_category = details.copy()\n",
    "by_category = by_category[by_category.type != 'alert']\n",
    "by_category = by_category.groupby(by=['name']).count()\n",
    "by_category['proportion'] = by_category['count'] / 80\n",
    "by_category = by_category.reset_index()\n",
    "\n",
    "plot = alt.Chart(by_category).mark_bar(\n",
    "    stroke='white',\n",
    "    opacity=1\n",
    ").encode(\n",
    "    x=alt.X('name:N', sort='-y', axis=alt.Axis(labelAngle=300, grid=False, zindex=1)),\n",
    "    y=alt.Y('proportion:Q', axis=alt.Axis(format='%'), scale=alt.Scale(domain=[0, 1])),\n",
    "    color=alt.Color('name:N', scale=alt.Scale(domain=[d for (d, r) in c], range=[r for (d, r) in c])),\n",
    ").resolve_scale(y='independent').properties(\n",
    "    # height=40,\n",
    "    width=800\n",
    ")\n",
    "plot = apply_theme(plot)\n",
    "plot"
   ]
  },
  {
   "cell_type": "code",
   "execution_count": null,
   "id": "628b5288-2d43-4fcd-8dee-416ff8d54bee",
   "metadata": {},
   "outputs": [],
   "source": [
    "df = data.copy()\n",
    "df.error += df.contrast\n",
    "df['no_errors'] = data.error.apply(lambda x: 'no errors' if x == 0 else 'with errors')\n",
    "df = df.groupby(by='no_errors').count()\n",
    "df['percent'] = df.error / 80\n",
    "df = df.reset_index()\n",
    "\n",
    "plot = alt.Chart(df).mark_bar().encode(\n",
    "    x=alt.X('no_errors:N'),\n",
    "    y=alt.Y('percent:Q', title=None, axis=alt.Axis(format='%')),\n",
    "    color=alt.Color('no_errors:N', legend=None, scale=alt.Scale(range=['#3275B4', '#CC7DAA']))\n",
    ").properties(\n",
    "    title='The % of Homepages with & without Any Errors',\n",
    "    width=300\n",
    ")\n",
    "\n",
    "plot = apply_theme(plot)\n",
    "\n",
    "plot"
   ]
  },
  {
   "cell_type": "code",
   "execution_count": null,
   "id": "e6d9c426-ef8c-4a00-9765-7fc1a7b286ed",
   "metadata": {},
   "outputs": [],
   "source": []
  }
 ],
 "metadata": {
  "kernelspec": {
   "display_name": "Python 3 (ipykernel)",
   "language": "python",
   "name": "python3"
  },
  "language_info": {
   "codemirror_mode": {
    "name": "ipython",
    "version": 3
   },
   "file_extension": ".py",
   "mimetype": "text/x-python",
   "name": "python",
   "nbconvert_exporter": "python",
   "pygments_lexer": "ipython3",
   "version": "3.9.1"
  }
 },
 "nbformat": 4,
 "nbformat_minor": 5
}
