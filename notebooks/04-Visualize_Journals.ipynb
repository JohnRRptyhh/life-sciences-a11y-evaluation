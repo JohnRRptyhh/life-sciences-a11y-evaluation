{
 "cells": [
  {
   "cell_type": "code",
   "execution_count": null,
   "metadata": {},
   "outputs": [],
   "source": [
    "%load_ext autoreload\n",
    "%autoreload 2\n",
    "%aimport theme\n",
    "import pandas as pd\n",
    "import altair as alt\n",
    "import os\n",
    "from theme import apply_theme\n",
    "from constants import EVALUATION_DATE_FOLDER\n",
    "alt.data_transformers.disable_max_rows(); # Allow using rows more than 5000"
   ]
  },
  {
   "cell_type": "code",
   "execution_count": null,
   "metadata": {},
   "outputs": [],
   "source": [
    "# # For correction...odd\n",
    "# _ = pd.read_csv(os.path.join('..', 'output', EVALUATION_DATE_FOLDER, 'journal-portal_pages.csv'))\n",
    "# _.id = _.id.apply(lambda x: x - 27955 if x >= 27956 else x)\n",
    "# _.page_id = _.page_id.apply(lambda x: f\"{int(x.split('_')[0]) - 27955}\" + '_' + x.split('_')[1] if int(x.split('_')[0]) >= 27956 else x)\n",
    "# _.to_csv(os.path.join('..', 'output', EVALUATION_DATE_FOLDER, 'journal-portal_pages.csv'), index=False)"
   ]
  },
  {
   "cell_type": "code",
   "execution_count": null,
   "metadata": {},
   "outputs": [],
   "source": [
    "# _ = pd.read_csv(os.path.join('..', 'output', EVALUATION_DATE_FOLDER, 'journal-portal_filtered_ids.csv'))\n",
    "# _.id = _.id.apply(lambda x: x - 27955 if x >= 27956 else x)\n",
    "# _.to_csv(os.path.join('..', 'output', EVALUATION_DATE_FOLDER, 'journal-portal_filtered_ids.csv'), index=False)"
   ]
  },
  {
   "cell_type": "markdown",
   "metadata": {},
   "source": [
    "# Visualize\n",
    "For previous code, refer to `./deprecated/04-Visualize.ipynb`."
   ]
  },
  {
   "cell_type": "markdown",
   "metadata": {},
   "source": [
    "## Journal Portals"
   ]
  },
  {
   "cell_type": "code",
   "execution_count": null,
   "metadata": {},
   "outputs": [],
   "source": [
    "\"\"\"\n",
    "Merge data for visualization\n",
    "\"\"\"\n",
    "df = pd.read_csv(os.path.join('..', 'output', EVALUATION_DATE_FOLDER, 'journal-portal_evaluation.csv'))\n",
    "\n",
    "# Can be useful for visualization\n",
    "ERROR_TYPES = df.columns.tolist()\n",
    "ERROR_TYPES.remove('page_id')\n",
    "ERROR_TYPES.remove('is_success')\n",
    "ERROR_TYPES.remove('error_count')\n",
    "ERROR_TYPES.remove('alert_count')\n",
    "ERROR_TYPES.remove('contrast_count')\n",
    "ERROR_TYPES.remove('category_count')\n",
    "ERROR_TYPES.remove('count')\n",
    "\n",
    "# Add `id` of resources and `page_type` of pages\n",
    "df_pages = pd.read_csv(os.path.join('..', 'output', EVALUATION_DATE_FOLDER, 'journal-portal_pages.csv'))\n",
    "df = df.merge(df_pages[['id', 'page_id', 'page_type']], left_on='page_id', right_on='page_id', how='left')\n",
    "# Add metadata of resources\n",
    "df_meta = pd.read_csv(os.path.join('..', 'output', EVALUATION_DATE_FOLDER, 'journal-portal_metadata.csv'))\n",
    "df_meta.drop(columns=['url'], inplace=True)\n",
    "# df_meta.id = df_meta.id.apply(lambda x: x + 27955)\n",
    "df = df.merge(df_meta, left_on='id', right_on='id', how='left')\n",
    "# print(df_meta)\n",
    "\n",
    "len(df)\n",
    "# df.title\n",
    "len(df[df.page_type != 'home'])"
   ]
  },
  {
   "cell_type": "code",
   "execution_count": null,
   "metadata": {},
   "outputs": [],
   "source": [
    "# Let's add some useful columns for visualization\n",
    "df['error_and_contrast_count'] = df['error_count'] + df['contrast_count']\n",
    "df['has_error'] = df.error_and_contrast_count.apply(lambda x: x > 0)"
   ]
  },
  {
   "cell_type": "code",
   "execution_count": null,
   "metadata": {},
   "outputs": [],
   "source": [
    "THEME_COLOR = '#CC7DAA'"
   ]
  },
  {
   "cell_type": "code",
   "execution_count": null,
   "metadata": {},
   "outputs": [],
   "source": [
    "df_home = df[df['page_type'] == 'home']"
   ]
  },
  {
   "cell_type": "code",
   "execution_count": null,
   "metadata": {},
   "outputs": [],
   "source": [
    "df_home['count'].max()"
   ]
  },
  {
   "cell_type": "code",
   "execution_count": null,
   "metadata": {},
   "outputs": [],
   "source": [
    "point = alt.Chart(\n",
    "    df_home\n",
    ").mark_bar(\n",
    "    color=THEME_COLOR,\n",
    "    filled=True\n",
    ").encode(\n",
    "    alt.X(f'count:Q').bin(maxbins=200).scale(domain=[0, 800]),\n",
    "    alt.Y('count()').scale(type='log'),\n",
    "    alt.Tooltip('count()')\n",
    ").properties(\n",
    "    width=500\n",
    ")\n",
    "\n",
    "point"
   ]
  },
  {
   "cell_type": "markdown",
   "metadata": {},
   "source": [
    "## Country"
   ]
  },
  {
   "cell_type": "code",
   "execution_count": null,
   "metadata": {},
   "outputs": [],
   "source": [
    "# Top countries by the number of resources\n",
    "COUNTRY_N = 20\n",
    "TOP_COUNTRY_BY_COUNT = df_home.country.value_counts().reset_index().sort_values(by='count', ascending=False)[:COUNTRY_N].country.tolist()\n",
    "TOP_COUNTRY_BY_COUNT"
   ]
  },
  {
   "cell_type": "code",
   "execution_count": null,
   "metadata": {},
   "outputs": [],
   "source": [
    "FIELD = 'count'\n",
    "\n",
    "COUNTRIES_SORT = df_home[df_home.country.isin(TOP_COUNTRY_BY_COUNT)][['country', FIELD]].groupby('country').median().sort_values(by=FIELD, ascending=False).reset_index().country.tolist()\n",
    "\n",
    "point = alt.Chart(\n",
    "    df_home[df_home.country.isin(COUNTRIES_SORT)]\n",
    ").mark_point(\n",
    "    color=THEME_COLOR,\n",
    "    filled=True\n",
    ").encode(\n",
    "    alt.X(f'median({FIELD}):Q', title='The Median Number of Errors & Alerts'),\n",
    "    alt.Y('country:N', sort=COUNTRIES_SORT).axis(grid=True),\n",
    "    alt.Tooltip(['count(count):Q'])\n",
    ").properties(\n",
    "    width=500\n",
    ")\n",
    "\n",
    "bar = point.mark_bar(\n",
    "    color=THEME_COLOR\n",
    ").encode(\n",
    "    alt.X(f'count({FIELD}):Q'),\n",
    "    alt.Y('country:N', sort=COUNTRIES_SORT),\n",
    ").properties(\n",
    "    width=100\n",
    ")\n",
    "\n",
    "chart = bar | point\n",
    "\n",
    "apply_theme(chart)"
   ]
  },
  {
   "cell_type": "markdown",
   "metadata": {},
   "source": [
    "## US vs. Non-US"
   ]
  },
  {
   "cell_type": "code",
   "execution_count": null,
   "metadata": {},
   "outputs": [],
   "source": [
    "df_home['is_us'] = df_home.country.isin(['United States'])\n",
    "df_home['is_us'] = df_home['is_us'].apply(lambda x: 'US' if x else 'Non-US')"
   ]
  },
  {
   "cell_type": "code",
   "execution_count": null,
   "metadata": {},
   "outputs": [],
   "source": [
    "plot = alt.Chart(\n",
    "    df_home\n",
    ").mark_bar(\n",
    "    color=THEME_COLOR,\n",
    "    size=50\n",
    ").encode(\n",
    "    alt.Y('median(count):Q', title='Median Errors & Alerts'),\n",
    "    alt.X('is_us:N', title=None)\n",
    ").properties(\n",
    "    width=200\n",
    ")\n",
    "\n",
    "bar = plot.encode(\n",
    "    alt.Y('count()')\n",
    ")\n",
    "\n",
    "apply_theme(plot | bar, x_label_angle=0)"
   ]
  },
  {
   "cell_type": "markdown",
   "metadata": {},
   "source": [
    "## Publisher"
   ]
  },
  {
   "cell_type": "code",
   "execution_count": null,
   "metadata": {},
   "outputs": [],
   "source": [
    "# Top countries by the number of resources\n",
    "COUNTRY_N = 20\n",
    "TOP_PUBLISHER_BY_COUNT = df_home.publisher.value_counts().reset_index().sort_values(by='count', ascending=False)[:COUNTRY_N].publisher.tolist()\n",
    "TOP_PUBLISHER_BY_COUNT"
   ]
  },
  {
   "cell_type": "code",
   "execution_count": null,
   "metadata": {},
   "outputs": [],
   "source": [
    "FIELD = 'count'\n",
    "\n",
    "PUBLISHERS_SORT = df_home[df_home.publisher.isin(TOP_PUBLISHER_BY_COUNT)][['publisher', FIELD]].groupby('publisher').median().sort_values(by=FIELD, ascending=False).reset_index().publisher.tolist()\n",
    "\n",
    "point = alt.Chart(\n",
    "    df_home[df_home.publisher.isin(PUBLISHERS_SORT)]\n",
    ").mark_point(\n",
    "    color=THEME_COLOR,\n",
    "    filled=True\n",
    ").encode(\n",
    "    alt.X(f'median({FIELD}):Q', title='The Median Number of Errors & Alerts'),\n",
    "    alt.Y('publisher:N', sort=PUBLISHERS_SORT).axis(grid=True),\n",
    "    alt.Tooltip(['count(count):Q'])\n",
    ").properties(\n",
    "    width=500\n",
    ")\n",
    "\n",
    "bar = point.mark_bar(\n",
    "    color=THEME_COLOR\n",
    ").encode(\n",
    "    alt.X(f'count({FIELD}):Q'),\n",
    "    alt.Y('publisher:N', sort=PUBLISHERS_SORT),\n",
    ").properties(\n",
    "    width=100\n",
    ")\n",
    "\n",
    "chart = bar | point\n",
    "\n",
    "apply_theme(chart)"
   ]
  },
  {
   "cell_type": "markdown",
   "metadata": {},
   "source": [
    "## Area"
   ]
  },
  {
   "cell_type": "code",
   "execution_count": null,
   "metadata": {},
   "outputs": [],
   "source": [
    "df_home.areas"
   ]
  },
  {
   "cell_type": "markdown",
   "metadata": {},
   "source": [
    "## Group by rank"
   ]
  },
  {
   "cell_type": "code",
   "execution_count": null,
   "metadata": {},
   "outputs": [],
   "source": [
    "plot = alt.Chart(\n",
    "    df_home\n",
    ").mark_bar(\n",
    "    color=THEME_COLOR,\n",
    "    filled=True\n",
    ").encode(\n",
    "    alt.Y('count()'),\n",
    "    alt.X('h_index:Q').bin(maxbins=100),\n",
    ").properties(\n",
    "    width=400,\n",
    "    height=400\n",
    ")\n",
    "apply_theme(plot)"
   ]
  },
  {
   "cell_type": "code",
   "execution_count": null,
   "metadata": {},
   "outputs": [],
   "source": [
    "hs = df_home.sort_values(by='h_index').h_index.tolist()\n",
    "\n",
    "q1 = hs[int(len(hs) / 4)]\n",
    "q2 = hs[int(len(hs) / 2)]\n",
    "q3 = hs[int(len(hs) / 4 * 3)]\n",
    "\n",
    "print(q1, q2, q3)"
   ]
  },
  {
   "cell_type": "code",
   "execution_count": null,
   "metadata": {},
   "outputs": [],
   "source": [
    "df_home['h_index_group'] = df_home.h_index.apply(lambda x: '0-25%' if x <= q1 else '25-50%' if x <= q2 else '50-75%' if x <= q3 else '75%-100%')\n",
    "\n",
    "plot = alt.Chart(\n",
    "    df_home\n",
    ").mark_bar(\n",
    "    color=THEME_COLOR,\n",
    "    filled=True\n",
    ").encode(\n",
    "    alt.Y(f'median(has_error):Q', title='Median Errors & Alerts').scale(domain=[0, 1]).axis(format='%'),\n",
    "    alt.X('h_index_group:N'),\n",
    "    alt.Tooltip(['count(count):Q'])\n",
    ").properties(\n",
    "    width=400,\n",
    "    height=400\n",
    ")\n",
    "\n",
    "apply_theme(plot)"
   ]
  },
  {
   "cell_type": "code",
   "execution_count": null,
   "metadata": {},
   "outputs": [],
   "source": [
    "df_home['h_index_group'] = df_home.h_index.apply(lambda x: '0-25%' if x <= q1 else '25-50%' if x <= q2 else '50-75%' if x <= q3 else '75%-100%')\n",
    "\n",
    "plot = alt.Chart(\n",
    "    df_home\n",
    ").mark_bar(\n",
    "    color=THEME_COLOR,\n",
    "    filled=True\n",
    ").encode(\n",
    "    alt.Y(f'mean(has_error):Q', title='Percent Pages with Errors & Alerts').scale(domain=[0, 1]).axis(format='%'),\n",
    "    alt.X('h_index_group:N'),\n",
    "    alt.Tooltip(['count(count):Q'])\n",
    ").properties(\n",
    "    width=400,\n",
    "    height=400\n",
    ")\n",
    "\n",
    "apply_theme(plot)"
   ]
  },
  {
   "cell_type": "markdown",
   "metadata": {},
   "source": [
    "## By Page Type"
   ]
  },
  {
   "cell_type": "code",
   "execution_count": null,
   "metadata": {},
   "outputs": [],
   "source": [
    "def mean_errors_in_page_by_page_type(df):\n",
    "    point = alt.Chart(df).mark_point(filled=True, color=THEME_COLOR, size=100).encode(\n",
    "        alt.X('mean(error_and_contrast_count):Q', title='Mean Errors'),\n",
    "        alt.Y('page_type:N', title='Page Type', sort=['home', 'documentation', 'search_result', 'search', 'data_entity']),\n",
    "    )\n",
    "    error_bar = alt.Chart(df).mark_errorbar(color=THEME_COLOR, thickness=2).encode(\n",
    "        alt.X('error_and_contrast_count:Q', title='Mean Errors'),\n",
    "        alt.Y('page_type:N', title='Page Type', sort=['home', 'documentation', 'search_result', 'search', 'data_entity']),\n",
    "    )\n",
    "    return apply_theme(\n",
    "        (point + error_bar).properties(\n",
    "            title='Average # of Errors in a Page',\n",
    "            height=300,\n",
    "            width=400\n",
    "        )\n",
    "    )\n",
    "mean_errors_in_page_by_page_type(df)"
   ]
  },
  {
   "cell_type": "code",
   "execution_count": null,
   "metadata": {},
   "outputs": [],
   "source": [
    "def error_pages_by_page_type(df):\n",
    "    bar = alt.Chart(df).mark_bar(color=THEME_COLOR).encode(\n",
    "        alt.Y('mean(has_error):Q', title='Percentage of Pages').axis(format='%', tickCount=20),\n",
    "        alt.X('page_type:N', title='Page Type', sort='-y'),\n",
    "        alt.Tooltip('mean(has_error):Q')\n",
    "    ).properties(\n",
    "        title='Proportion of Pages with Errors',\n",
    "        width=500\n",
    "    )\n",
    "\n",
    "    text = bar.mark_text(size=20, baseline='top', dy=10, color='white').encode(\n",
    "        alt.Text('mean(has_error):Q', format='.1%')\n",
    "    )\n",
    "    return apply_theme(\n",
    "        bar + text,\n",
    "        x_label_angle=-90\n",
    "    )\n",
    "error_pages_by_page_type(df)"
   ]
  },
  {
   "cell_type": "markdown",
   "metadata": {},
   "source": [
    "## By Error Type"
   ]
  },
  {
   "cell_type": "code",
   "execution_count": null,
   "metadata": {},
   "outputs": [],
   "source": [
    "id_vars = ['page_id', 'page_type']\n",
    "df_long = df[ERROR_TYPES + id_vars].melt(id_vars=id_vars, value_vars=ERROR_TYPES, var_name='error_type', value_name='error_count')\n",
    "df_long.head(3)"
   ]
  },
  {
   "cell_type": "code",
   "execution_count": null,
   "metadata": {},
   "outputs": [],
   "source": [
    "TOP_ERROR_TYPES = df_long.groupby(by='error_type').sum().sort_values(by='error_count', ascending=False)[0:10].reset_index().error_type.tolist()\n",
    "TOP_ERROR_TYPES"
   ]
  },
  {
   "cell_type": "code",
   "execution_count": null,
   "metadata": {},
   "outputs": [],
   "source": [
    "apply_theme(\n",
    "        alt.Chart(df_long[df_long.error_type.isin(TOP_ERROR_TYPES)]).mark_bar(color=THEME_COLOR).encode(\n",
    "        alt.Y('sum(error_count):Q', title='Total Errors & Alerts'),\n",
    "        alt.X('error_type:N', title='Error Type', sort='-y'),\n",
    "    ).properties(\n",
    "        width=400\n",
    "    ),\n",
    "    x_label_angle=-90\n",
    ")"
   ]
  },
  {
   "cell_type": "code",
   "execution_count": null,
   "metadata": {},
   "outputs": [],
   "source": [
    "wcag_level_map = {\n",
    "\t'error_label_missing':'Perceivable, Operable, Understandable',\n",
    "\t'error_language_missing':'Understandable',\n",
    "\t'error_button_empty':'Perceivable, Operable',\n",
    "\t'alert_alt_suspicious':'Perceivable',\n",
    "\t'alert_hPerceivable_missing':'Perceivable, Operable',\n",
    "\t'alert_link_redundant':'Operable',\n",
    "\t'alert_link_pdf':'Perceivable',\n",
    "\t'alert_text_small':'Perceivable',\n",
    "\t'contrast_contrast':'Perceivable',\n",
    "\t'alert_select_missing_label':'Perceivable, Operable, Understandable',\n",
    "\t'alert_region_missing':'Perceivable, Operable',\n",
    "\t'error_alt_missing':'Perceivable',\n",
    "\t'error_link_empty':'Operable',\n",
    "\t'error_aria_menu_broken':'Operable, Robust',\n",
    "\t'alert_alt_duplicate':'Perceivable',\n",
    "\t'alert_label_orphaned':'Perceivable, Operable, Understandable',\n",
    "\t'alert_heading_skipped':'Perceivable, Operable',\n",
    "\t'alert_link_suspicious':'Operable',\n",
    "\t'alert_event_handler':'Operable',\n",
    "\t'alert_text_justified':'Understandable',\n",
    "\t'alert_heading_missing':'Perceivable, Operable',\n",
    "\t'alert_link_internal_broken':'Operable',\n",
    "\t'error_alt_link_missing':'Perceivable, Operable',\n",
    "\t'alert_youtube_video':'Perceivable',\n",
    "\t'alert_title_redundant':'Understandable',\n",
    "\t'error_th_empty':'Perceivable',\n",
    "\t'alert_noscript':'Other',\n",
    "\t'alert_image_title':'Perceivable',\n",
    "\t'alert_label_title':'Perceivable, Operable, Understandable',\n",
    "\t'alert_accesskey':'Operable',\n",
    "\t'alert_table_layout':'Perceivable',\n",
    "\t'error_heading_empty':'Operable, Understandable',\n",
    "\t'alert_alt_redundant':'Perceivable',\n",
    "\t'alert_legend_missing':'Perceivable, Operable, Understandable',\n",
    "\t'alert_tabindex':'Operable',\n",
    "\t'alert_heading_possible':'Perceivable, Operable',\n",
    "\t'alert_underline':'Understandable',\n",
    "\t'error_link_skip_broken':'Operable',\n",
    "\t'alert_fieldset_missing':'Perceivable, Operable, Understandable',\n",
    "\t'alert_plugin':'Perceivable',\n",
    "\t'alert_alt_long':'Perceivable',\n",
    "\t'alert_javascript_jumpmenu':'Operable, Understandable',\n",
    "\t'error_alt_spacer_missing':'Perceivable',\n",
    "\t'error_title_invalid':'Operable',\n",
    "\t'error_aria_reference_broken':'Perceivable',\n",
    "\t'alert_table_caption_possible':'Perceivable',\n",
    "\t'alert_link_powerpoint':'Perceivable',\n",
    "\t'alert_link_excel':'Perceivable',\n",
    "\t'alert_audio_video':'Perceivable',\n",
    "\t'alert_list_possible':'Perceivable',\n",
    "\t'error_label_multiple':'Perceivable, Operable, Understandable',\n",
    "\t'error_meta_refresh':'Operable',\n",
    "\t'error_alt_area_missing':'Perceivable, Operable',\n",
    "\t'alert_flash':'Perceivable, Operable',\n",
    "\t'error_alt_map_missing':'Perceivable',\n",
    "\t'error_label_empty':'Perceivable, Operable, Understandable',\n",
    "\t'alert_html5_video_audio':'Perceivable',\n",
    "\t'error_alt_input_missing':'Perceivable, Operable',\n",
    "\t'alert_link_word':'Perceivable',\n",
    "\t'alert_longdesc':'Perceivable',\n",
    "\t'error_marquee':'Operable',\n",
    "\t'error_blink':'Operable',\n",
    "\t'alert_applet': 'Other',\n",
    "\t'alert_h1_missing': 'Perceivable, Operable',\n",
    "    'alert_link_document': 'Perceivable',\n",
    "    'error_longdesc_invalid': 'Perceivable',\n",
    "}"
   ]
  },
  {
   "cell_type": "code",
   "execution_count": null,
   "metadata": {},
   "outputs": [],
   "source": [
    "id_vars = ['page_id', 'page_type']\n",
    "df_long = df[ERROR_TYPES + id_vars].melt(id_vars=id_vars, value_vars=ERROR_TYPES, var_name='error_type', value_name='error_count')\n",
    "df_long['wcag_level'] = df_long['error_type'].apply(lambda x: wcag_level_map[x])\n",
    "\n",
    "def f(levels, b, l):\n",
    "    if l in levels:\n",
    "        return b\n",
    "    else:\n",
    "        return 0\n",
    "for l in ['Perceivable', 'Operable', 'Understandable', 'Robust', 'Other']:\n",
    "    df_long[l] = df_long.apply(lambda x: f(x.wcag_level, x.error_count, l), axis=1)\n",
    "\n",
    "# df_long['Operable'] = df_long['error_count']\n",
    "# df_long['Understandable'] = df_long['error_count']\n",
    "# df_long['Robust'] = df_long['error_count']\n",
    "# df_long['Other'] = df_long['error_count']\n",
    "\n",
    "df_long.head(3)\n",
    "# ERROR_TYPES"
   ]
  },
  {
   "cell_type": "code",
   "execution_count": null,
   "metadata": {},
   "outputs": [],
   "source": [
    "id_vars = ['page_id', 'page_type', 'error_type']\n",
    "LEVELS = ['Perceivable', 'Operable', 'Understandable', 'Robust', 'Other']\n",
    "df_long_level = df_long[LEVELS + id_vars].melt(id_vars=id_vars, value_vars=LEVELS, var_name='level', value_name='count')\n",
    "df_long_level.head(3)"
   ]
  },
  {
   "cell_type": "code",
   "execution_count": null,
   "metadata": {},
   "outputs": [],
   "source": [
    "def average_errors_by_error_type_and_page_type(df_long_level):\n",
    "    bar = alt.Chart(df_long_level[df_long_level.page_type != 'home']).mark_bar(color=THEME_COLOR).encode(\n",
    "        alt.X('sum(count):Q', title='Total Errors & Alerts'),\n",
    "        alt.Y('level:N', title='Error Groups', sort=LEVELS)\n",
    "    ).properties(\n",
    "        width=200\n",
    "    )\n",
    "    # error_bar = alt.Chart(df_long).mark_errorbar(color=THEME_COLOR, thickness=2).encode(\n",
    "    #     alt.X('error_count:Q', title='Average Number of Errors'),\n",
    "    #     alt.Y('wcag_level:N', title='Error Type').axis(grid=True)\n",
    "    # )\n",
    "    return apply_theme(\n",
    "        (bar).facet(\n",
    "            alt.Column('page_type:N', title=None),\n",
    "        ).properties(\n",
    "        )\n",
    "    )\n",
    "average_errors_by_error_type_and_page_type(df_long_level)"
   ]
  },
  {
   "cell_type": "code",
   "execution_count": null,
   "metadata": {},
   "outputs": [],
   "source": [
    "# # Let's add some useful columns for visualization\n",
    "# df_long['has_error'] = df_long.error_count.apply(lambda x: x > 0)"
   ]
  },
  {
   "cell_type": "code",
   "execution_count": null,
   "metadata": {},
   "outputs": [],
   "source": [
    "# def error_pages_by_page_type(df_long):\n",
    "#     bar = alt.Chart(df_long).mark_bar(color=THEME_COLOR).encode(\n",
    "#         alt.X('mean(has_error):Q', title='Percentage of Pages').scale(domain=[0, 1]).axis(format='%'),\n",
    "#         alt.Y('error_type:N', title='Error Type')\n",
    "#     ).properties(\n",
    "#         width=200\n",
    "#     )\n",
    "#     return apply_theme(\n",
    "#         bar.facet(\n",
    "#             alt.Column('page_type:N', title='Page Type'),\n",
    "#         ).properties(\n",
    "#             title='Proportion of Error Pages by Page Type'\n",
    "#         )\n",
    "#     )\n",
    "# error_pages_by_page_type(df_long)"
   ]
  },
  {
   "cell_type": "code",
   "execution_count": null,
   "metadata": {},
   "outputs": [],
   "source": []
  },
  {
   "cell_type": "code",
   "execution_count": null,
   "metadata": {},
   "outputs": [],
   "source": []
  }
 ],
 "metadata": {
  "kernelspec": {
   "display_name": "life-sciences-a11y-evaluation",
   "language": "python",
   "name": "python3"
  },
  "language_info": {
   "codemirror_mode": {
    "name": "ipython",
    "version": 3
   },
   "file_extension": ".py",
   "mimetype": "text/x-python",
   "name": "python",
   "nbconvert_exporter": "python",
   "pygments_lexer": "ipython3",
   "version": "3.10.13"
  }
 },
 "nbformat": 4,
 "nbformat_minor": 2
}
