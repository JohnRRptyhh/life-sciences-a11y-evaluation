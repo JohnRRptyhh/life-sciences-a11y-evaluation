{
 "cells": [
  {
   "cell_type": "code",
   "execution_count": null,
   "metadata": {},
   "outputs": [],
   "source": [
    "%load_ext autoreload\n",
    "%autoreload 2\n",
    "%aimport theme\n",
    "import pandas as pd\n",
    "import altair as alt\n",
    "import os\n",
    "from theme import apply_theme\n",
    "from constants import EVALUATION_DATE_FOLDER\n",
    "alt.data_transformers.disable_max_rows(); # Allow using rows more than 5000"
   ]
  },
  {
   "cell_type": "markdown",
   "metadata": {},
   "source": [
    "# Visualize\n",
    "For previous code, refer to `./deprecated/04-Visualize.ipynb`."
   ]
  },
  {
   "cell_type": "markdown",
   "metadata": {},
   "source": [
    "## Journal Portals"
   ]
  },
  {
   "cell_type": "code",
   "execution_count": null,
   "metadata": {},
   "outputs": [],
   "source": [
    "\"\"\"\n",
    "Merge data for visualization\n",
    "\"\"\"\n",
    "df = pd.read_csv(os.path.join('..', 'output', EVALUATION_DATE_FOLDER, 'journal-portal_evaluation.csv'))\n",
    "\n",
    "# Can be useful for visualization\n",
    "ERROR_TYPES = df.columns.tolist()\n",
    "ERROR_TYPES.remove('page_id')\n",
    "ERROR_TYPES.remove('is_success')\n",
    "ERROR_TYPES.remove('error_count')\n",
    "\n",
    "# Add `id` of resources and `page_type` of pages\n",
    "df_pages = pd.read_csv(os.path.join('..', 'output', EVALUATION_DATE_FOLDER, 'journal-portal_pages.csv'))\n",
    "df = df.merge(df_pages[['id', 'page_id', 'page_type']], left_on='page_id', right_on='page_id', how='left')\n",
    "\n",
    "# Add metadata of resources\n",
    "df_meta = pd.read_csv(os.path.join('..', 'output', EVALUATION_DATE_FOLDER, 'journal-portal_metadata.csv'))\n",
    "df_meta.drop(columns=['url'], inplace=True)\n",
    "df = df.merge(df_meta, left_on='id', right_on='id', how='left')\n",
    "\n",
    "df.head(3)\n",
    "# df.title\n",
    "df"
   ]
  },
  {
   "cell_type": "code",
   "execution_count": null,
   "metadata": {},
   "outputs": [],
   "source": [
    "# Let's add some useful columns for visualization\n",
    "df['has_error'] = df.error_count.apply(lambda x: x > 0)"
   ]
  },
  {
   "cell_type": "code",
   "execution_count": null,
   "metadata": {},
   "outputs": [],
   "source": [
    "THEME_COLOR = '#CC7DAA'"
   ]
  },
  {
   "cell_type": "code",
   "execution_count": null,
   "metadata": {},
   "outputs": [],
   "source": [
    "def mean_errors_in_page_by_page_type(df):\n",
    "    point = alt.Chart(df).mark_point(filled=True, color=THEME_COLOR, size=100).encode(\n",
    "        alt.X('mean(error_count):Q', title='Mean of Error Count'),\n",
    "        alt.Y('page_type:N', title='Page Type'),\n",
    "    )\n",
    "    error_bar = alt.Chart(df).mark_errorbar(color=THEME_COLOR, thickness=2).encode(\n",
    "        alt.X('error_count:Q', title='Mean of Error Count'),\n",
    "        alt.Y('page_type:N', title='Page Type'),\n",
    "    )\n",
    "    return apply_theme(\n",
    "        (error_bar + point).properties(\n",
    "            title='Average # of Errors in a Page by Page Type',\n",
    "            height=300,\n",
    "            width=400\n",
    "        )\n",
    "    )\n",
    "mean_errors_in_page_by_page_type(df)"
   ]
  },
  {
   "cell_type": "code",
   "execution_count": null,
   "metadata": {},
   "outputs": [],
   "source": [
    "def error_pages_by_page_type(df):\n",
    "    return apply_theme(\n",
    "        alt.Chart(df).mark_bar(color=THEME_COLOR).encode(\n",
    "            alt.Y('mean(has_error):Q', title='Percentage of Pages').axis(format='%', tickCount=10).scale(domain=[0, 1.0]),\n",
    "            alt.X('page_type:N', title='Page Type', sort='-y'),\n",
    "        ).properties(\n",
    "            title='Proportion of Error Pages by Page Type',\n",
    "            width=700\n",
    "        )\n",
    "    )\n",
    "error_pages_by_page_type(df)"
   ]
  },
  {
   "cell_type": "code",
   "execution_count": null,
   "metadata": {},
   "outputs": [],
   "source": [
    "def num_of_errors_by_resources(df):\n",
    "    bar = alt.Chart(df).mark_bar(color=THEME_COLOR).encode(\n",
    "        alt.X('sum(error_count):Q', title='The Number of Errors').scale(type='symlog').axis(tickCount=20, orient='top'),\n",
    "        alt.Y('title:N', title=None, sort='-x'),\n",
    "        alt.Column('page_type:N', title='Page Type'),\n",
    "    )\n",
    "    return apply_theme(\n",
    "        (bar).properties(\n",
    "            title='Average # of Errors in a Page by Page Type',\n",
    "            # height=300,\n",
    "            width=200\n",
    "        )\n",
    "    )\n",
    "num_of_errors_by_resources(df)"
   ]
  },
  {
   "cell_type": "code",
   "execution_count": null,
   "metadata": {},
   "outputs": [],
   "source": [
    "id_vars = ['page_id', 'page_type']\n",
    "df_long = df[ERROR_TYPES + id_vars].melt(id_vars=id_vars, value_vars=ERROR_TYPES, var_name='error_type', value_name='error_count')\n",
    "df_long.head(3)"
   ]
  },
  {
   "cell_type": "code",
   "execution_count": null,
   "metadata": {},
   "outputs": [],
   "source": [
    "def average_errors_by_error_type_and_page_type(df_long):\n",
    "    point = alt.Chart(df_long).mark_point(filled=True, color=THEME_COLOR).encode(\n",
    "        alt.X('mean(error_count):Q', title='Average Number of Errors').scale(domain=[0, 200], clamp=True),\n",
    "        alt.Y('error_type:N', title='Error Type')\n",
    "    ).properties(\n",
    "        width=200\n",
    "    )\n",
    "    error_bar = alt.Chart(df_long).mark_errorbar(color=THEME_COLOR, thickness=2).encode(\n",
    "        alt.X('error_count:Q', title='Average Number of Errors'),\n",
    "        alt.Y('error_type:N', title='Error Type').axis(grid=True)\n",
    "    )\n",
    "    return apply_theme(\n",
    "        (point + error_bar).facet(\n",
    "            alt.Column('page_type:N', title='Page Type'),\n",
    "        ).properties(\n",
    "            title='Average # of Errors in a Page by Page Type'\n",
    "        )\n",
    "    )\n",
    "average_errors_by_error_type_and_page_type(df_long)"
   ]
  },
  {
   "cell_type": "code",
   "execution_count": null,
   "metadata": {},
   "outputs": [],
   "source": [
    "# Let's add some useful columns for visualization\n",
    "df_long['has_error'] = df_long.error_count.apply(lambda x: x > 0)"
   ]
  },
  {
   "cell_type": "code",
   "execution_count": null,
   "metadata": {},
   "outputs": [],
   "source": [
    "def error_pages_by_page_type(df_long):\n",
    "    bar = alt.Chart(df_long).mark_bar(color=THEME_COLOR).encode(\n",
    "        alt.X('mean(has_error):Q', title='Percentage of Pages').scale(domain=[0, 1]).axis(format='%'),\n",
    "        alt.Y('error_type:N', title='Error Type')\n",
    "    ).properties(\n",
    "        width=200\n",
    "    )\n",
    "    return apply_theme(\n",
    "        bar.facet(\n",
    "            alt.Column('page_type:N', title='Page Type'),\n",
    "        ).properties(\n",
    "            title='Proportion of Error Pages by Page Type'\n",
    "        )\n",
    "    )\n",
    "error_pages_by_page_type(df_long)"
   ]
  },
  {
   "cell_type": "code",
   "execution_count": null,
   "metadata": {},
   "outputs": [],
   "source": []
  },
  {
   "cell_type": "code",
   "execution_count": null,
   "metadata": {},
   "outputs": [],
   "source": []
  }
 ],
 "metadata": {
  "kernelspec": {
   "display_name": "life-sciences-a11y-evaluation",
   "language": "python",
   "name": "python3"
  },
  "language_info": {
   "codemirror_mode": {
    "name": "ipython",
    "version": 3
   },
   "file_extension": ".py",
   "mimetype": "text/x-python",
   "name": "python",
   "nbconvert_exporter": "python",
   "pygments_lexer": "ipython3",
   "version": "3.10.13"
  }
 },
 "nbformat": 4,
 "nbformat_minor": 2
}
